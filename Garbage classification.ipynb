{
 "cells": [
  {
   "cell_type": "code",
   "execution_count": 1,
   "id": "7a6a5af0",
   "metadata": {},
   "outputs": [],
   "source": [
    "import torch\n",
    "import torchvision\n",
    "import torchvision.transforms as transforms\n",
    "import os"
   ]
  },
  {
   "cell_type": "markdown",
   "id": "efbb6039",
   "metadata": {},
   "source": [
    "## Understanding the dataset"
   ]
  },
  {
   "cell_type": "markdown",
   "id": "1831a16a",
   "metadata": {},
   "source": [
    "### Counting classes"
   ]
  },
  {
   "cell_type": "code",
   "execution_count": 2,
   "id": "d5cb56d1",
   "metadata": {},
   "outputs": [
    {
     "name": "stdout",
     "output_type": "stream",
     "text": [
      "['metal', 'trash', 'paper', 'glass', 'plastic', 'cardboard']\n"
     ]
    }
   ],
   "source": [
    "data_dir = r'/mnt/sdb/aditi/archive/garbage classification/Garbage classification'\n",
    "classes = os.listdir(data_dir)\n",
    "print(classes)"
   ]
  },
  {
   "cell_type": "markdown",
   "id": "c8ba765b",
   "metadata": {},
   "source": [
    "So we're looking at a multiclass classification problem."
   ]
  },
  {
   "cell_type": "markdown",
   "id": "46e7e823",
   "metadata": {},
   "source": [
    "### Counting the number of images in each class"
   ]
  },
  {
   "cell_type": "code",
   "execution_count": 3,
   "id": "a0317f81",
   "metadata": {
    "scrolled": true
   },
   "outputs": [
    {
     "name": "stdout",
     "output_type": "stream",
     "text": [
      "Metal count: 410\n",
      "Trash count: 137\n",
      "Paper count: 594\n",
      "Glass count: 501\n",
      "Plastic count: 482\n",
      "Cardboard count: 403\n",
      "Total: 2527\n"
     ]
    }
   ],
   "source": [
    "import os\n",
    "\n",
    "total = 0\n",
    "\n",
    "_, _, files = next(os.walk(\"/mnt/sdb/aditi/archive/garbage classification/Garbage classification/metal\"))\n",
    "file_count = len(files)\n",
    "print(\"Metal count: \" + str(file_count))\n",
    "total += file_count\n",
    "\n",
    "_, _, files = next(os.walk(\"/mnt/sdb/aditi/archive/garbage classification/Garbage classification/trash\"))\n",
    "file_count = len(files)\n",
    "print(\"Trash count: \" + str(file_count))\n",
    "total += file_count\n",
    "\n",
    "_, _, files = next(os.walk(\"/mnt/sdb/aditi/archive/garbage classification/Garbage classification/paper\"))\n",
    "file_count = len(files)\n",
    "print(\"Paper count: \" + str(file_count))\n",
    "total += file_count\n",
    "\n",
    "_, _, files = next(os.walk(\"/mnt/sdb/aditi/archive/garbage classification/Garbage classification/glass\"))\n",
    "file_count = len(files)\n",
    "print(\"Glass count: \" + str(file_count))\n",
    "total += file_count\n",
    "\n",
    "_, _, files = next(os.walk(\"/mnt/sdb/aditi/archive/garbage classification/Garbage classification/plastic\"))\n",
    "file_count = len(files)\n",
    "print(\"Plastic count: \" + str(file_count))\n",
    "total += file_count\n",
    "\n",
    "_, _, files = next(os.walk(\"/mnt/sdb/aditi/archive/garbage classification/Garbage classification/cardboard\"))\n",
    "file_count = len(files)\n",
    "print(\"Cardboard count: \" + str(file_count))\n",
    "total += file_count\n",
    "\n",
    "print(\"Total: \"+str(total))\n"
   ]
  },
  {
   "cell_type": "markdown",
   "id": "85e6b66b",
   "metadata": {},
   "source": [
    "This means that the classes are not balanced, in the sense that the model won't have access to equal number of images for each class./\n",
    "The class with the least examples is Trash(137) and the class with the most examples is Paper(593). \n",
    "The ratio between these classes is: 1 : 4.32 which according to this link https://developers.google.com/machine-learning/data-prep/construct/sampling-splitting/imbalanced-data qualifies as **moderate imbalance**.\\\n",
    "The link suggests that we first train on the true distribution of data and look at the classifications before we look at balancing techniques."
   ]
  },
  {
   "cell_type": "markdown",
   "id": "eeff1f3f",
   "metadata": {},
   "source": [
    "### Understanding the images"
   ]
  },
  {
   "cell_type": "code",
   "execution_count": 4,
   "id": "7a2c868f",
   "metadata": {},
   "outputs": [
    {
     "name": "stdout",
     "output_type": "stream",
     "text": [
      "(512, 384)\n",
      "(512, 384)\n",
      "(512, 384)\n",
      "(512, 384)\n",
      "(512, 384)\n",
      "(512, 384)\n"
     ]
    }
   ],
   "source": [
    "images = []\n",
    "\n",
    "from PIL import Image\n",
    "\n",
    "images.append(Image.open(r'/mnt/sdb/aditi/archive/garbage classification/Garbage classification/glass/glass1.jpg').convert(\"RGB\"))\n",
    "images.append(Image.open(r'/mnt/sdb/aditi/archive/garbage classification/Garbage classification/cardboard/cardboard1.jpg').convert(\"RGB\"))\n",
    "images.append(Image.open(r'/mnt/sdb/aditi/archive/garbage classification/Garbage classification/metal/metal1.jpg').convert(\"RGB\"))\n",
    "images.append(Image.open(r'/mnt/sdb/aditi/archive/garbage classification/Garbage classification/paper/paper1.jpg').convert(\"RGB\"))\n",
    "images.append(Image.open(r'/mnt/sdb/aditi/archive/garbage classification/Garbage classification/plastic/plastic1.jpg').convert(\"RGB\"))\n",
    "images.append(Image.open(r'/mnt/sdb/aditi/archive/garbage classification/Garbage classification/trash/trash1.jpg').convert(\"RGB\"))\n",
    "    \n",
    "for image in images:\n",
    "    print(image.size)"
   ]
  },
  {
   "cell_type": "markdown",
   "id": "eeb5f7db",
   "metadata": {},
   "source": [
    "The image size is 512x384 but this may be too much for the GPU to handle. So we rescale the images to 224x224. Much later I figured out that changing the aspect ratio of the images by rescaling can cause informatioon loss. "
   ]
  },
  {
   "cell_type": "code",
   "execution_count": 5,
   "id": "cdd9aa11",
   "metadata": {},
   "outputs": [],
   "source": [
    "transform = transforms.Compose(\n",
    "    [\n",
    "        torchvision.transforms.Resize(size=(224, 224)),\n",
    "        transforms.ToTensor(),\n",
    "        transforms.Normalize(mean=(0.485, 0.456, 0.406), std=(0.229, 0.224, 0.225)),\n",
    "    ]\n",
    ")\n",
    "\n",
    "batch_size = 4\n"
   ]
  },
  {
   "cell_type": "markdown",
   "id": "ccce83a1",
   "metadata": {},
   "source": [
    "Normalization helps get data within a range and reduces the skewness which helps learn faster and better\n",
    "In the process of training our network, we're going to be multiplying (weights) and adding to (biases) these initial inputs in order to cause activations that we then backpropogate with the gradients to train the model. We'd like in this process for each feature to have a similar range so that our gradients don't go out of control. So we do the third transformation. We use those values because those are the values used in the ImageNet dataset - The images in our dataset are not color filtered, contrast adjusted, uncommon lighting and do not contain an \"un-natural subject\" (medical images, satellite imagery, hand drawings, etc.) just like in ImageNet\n",
    "\n",
    "Looking at the new image 'sizes', 3 represents the number of color channels in the image. In this case, the image has 3 color channels (red, green, and blue), so the first dimension of the tensor is 3.\n",
    "(224, 224) represent the height and width of the image, respectively"
   ]
  },
  {
   "cell_type": "code",
   "execution_count": 6,
   "id": "dd7b0f62",
   "metadata": {
    "scrolled": true
   },
   "outputs": [],
   "source": [
    "from torchvision.datasets import ImageFolder\n",
    "dataset = ImageFolder(data_dir, transform = transform)"
   ]
  },
  {
   "cell_type": "markdown",
   "id": "3ce47bbd",
   "metadata": {},
   "source": [
    "### To ensure repreducibility"
   ]
  },
  {
   "cell_type": "code",
   "execution_count": 7,
   "id": "f089eeac",
   "metadata": {
    "scrolled": true
   },
   "outputs": [
    {
     "data": {
      "text/plain": [
       "<torch._C.Generator at 0x7f4324fdced0>"
      ]
     },
     "execution_count": 7,
     "metadata": {},
     "output_type": "execute_result"
    }
   ],
   "source": [
    "random_seed = 42\n",
    "torch.manual_seed(random_seed)"
   ]
  },
  {
   "cell_type": "markdown",
   "id": "cdb1ec73",
   "metadata": {},
   "source": [
    "### Creating our train, test and validation dataloaders in a 80,10,10 (%) split"
   ]
  },
  {
   "cell_type": "code",
   "execution_count": 8,
   "id": "0f20f947",
   "metadata": {
    "scrolled": true
   },
   "outputs": [
    {
     "name": "stdout",
     "output_type": "stream",
     "text": [
      "2527\n"
     ]
    }
   ],
   "source": [
    "from torch.utils.data import random_split\n",
    "print(len(dataset))\n",
    "trainset, valset, testset = random_split(dataset, [2020, 254, 253])\n",
    "\n",
    "train_dataloader = torch.utils.data.DataLoader(trainset, batch_size=batch_size, shuffle=True, num_workers=2)\n",
    "test_dataloader = torch.utils.data.DataLoader(testset, batch_size=batch_size,shuffle=False, num_workers=2)\n",
    "valid_dataloader = torch.utils.data.DataLoader(valset, batch_size=batch_size,shuffle=False, num_workers=2)"
   ]
  },
  {
   "cell_type": "markdown",
   "id": "7f3ebc42",
   "metadata": {},
   "source": [
    "### Visualizing the images in the dataset"
   ]
  },
  {
   "cell_type": "code",
   "execution_count": 9,
   "id": "0fbe778a",
   "metadata": {
    "scrolled": true
   },
   "outputs": [
    {
     "name": "stderr",
     "output_type": "stream",
     "text": [
      "Clipping input data to the valid range for imshow with RGB data ([0..1] for floats or [0..255] for integers).\n"
     ]
    },
    {
     "data": {
      "image/png": "[encoded data removed]",
      "text/plain": [
       "<Figure size 432x288 with 1 Axes>"
      ]
     },
     "metadata": {
      "needs_background": "light"
     },
     "output_type": "display_data"
    },
    {
     "name": "stdout",
     "output_type": "stream",
     "text": [
      "glass glass metal plastic\n"
     ]
    }
   ],
   "source": [
    "import matplotlib.pyplot as plt\n",
    "import numpy as np\n",
    "\n",
    "# functions to show an image\n",
    "def imshow(img):\n",
    "    img = img / 2 + 0.5     # unnormalize\n",
    "    npimg = img.numpy()\n",
    "    plt.imshow(np.transpose(npimg, (1, 2, 0)))\n",
    "    plt.show()\n",
    "\n",
    "# get some random training images\n",
    "dataiter = iter(train_dataloader)\n",
    "images, labels = next(dataiter)\n",
    "\n",
    "# show images\n",
    "imshow(torchvision.utils.make_grid(images))\n",
    "# print labels\n",
    "print(' '.join(f'{classes[labels[j]]:5s}' for j in range(batch_size)))"
   ]
  },
  {
   "cell_type": "markdown",
   "id": "4cf89006",
   "metadata": {},
   "source": [
    "We see that according to our transformation, the images have been correctly resized."
   ]
  },
  {
   "cell_type": "markdown",
   "id": "db13a3a3",
   "metadata": {},
   "source": [
    "## Special Functions"
   ]
  },
  {
   "cell_type": "code",
   "execution_count": 10,
   "id": "3e39b2f7",
   "metadata": {},
   "outputs": [],
   "source": [
    "class EarlyStopping:\n",
    "    def __init__(self, tolerance=5, min_delta=0):\n",
    "\n",
    "        self.tolerance = tolerance\n",
    "        self.min_delta = min_delta\n",
    "        self.counter = 0\n",
    "        self.early_stop = False\n",
    "\n",
    "    def __call__(self, train_loss, validation_loss):\n",
    "        if (validation_loss - train_loss) > self.min_delta:\n",
    "            self.counter +=1\n",
    "            if self.counter >= self.tolerance:  \n",
    "                self.early_stop = True"
   ]
  },
  {
   "cell_type": "code",
   "execution_count": 11,
   "id": "6ae03c2b",
   "metadata": {},
   "outputs": [],
   "source": [
    "from sklearn.metrics import f1_score\n",
    "\n",
    "from tqdm import tqdm\n",
    "def train(model, optimizer, criterion):\n",
    "    model.train()\n",
    "    print('Training')\n",
    "    train_running_loss = 0.0\n",
    "    train_running_correct = 0\n",
    "    counter = 0\n",
    "    for i, data in tqdm(enumerate(train_dataloader), total=len(train_dataloader)):\n",
    "        counter += 1\n",
    "        image, labels = data\n",
    "        image = image.to(device)\n",
    "        labels = labels.to(device)\n",
    "        optimizer.zero_grad()\n",
    "        # forward pass\n",
    "        outputs = model(image)\n",
    "        # calculate the loss\n",
    "        loss = criterion(outputs, labels)\n",
    "        train_running_loss += loss.item()\n",
    "        # calculate the accuracy\n",
    "        _, preds = torch.max(outputs.data, 1)\n",
    "        train_running_correct += (preds == labels).sum().item()\n",
    "        loss.backward()\n",
    "        optimizer.step()\n",
    "    \n",
    "    epoch_loss = train_running_loss / counter\n",
    "    epoch_acc = 100. * (train_running_correct / len(train_dataloader.dataset))\n",
    "    return epoch_loss, epoch_acc\n",
    "\n",
    "def validate(model, criterion):\n",
    "    model.eval()\n",
    "    \n",
    "    # we need two lists to keep track of class-wise accuracy\n",
    "    class_correct = list(0. for i in range(6))\n",
    "    class_total = list(0. for i in range(6))\n",
    "    print('Validation')\n",
    "    valid_running_loss = 0.0\n",
    "    valid_running_correct = 0\n",
    "    counter = 0\n",
    "    with torch.no_grad():\n",
    "        for i, data in tqdm(enumerate(valid_dataloader), total=len(valid_dataloader)):\n",
    "            counter += 1\n",
    "            \n",
    "            image, labels = data\n",
    "            image = image.to(device)\n",
    "            labels = labels.to(device)\n",
    "            # forward pass\n",
    "            outputs = model(image)\n",
    "            # calculate the loss\n",
    "            loss = criterion(outputs, labels)\n",
    "            valid_running_loss += loss.item()\n",
    "            # calculate the accuracy\n",
    "            _, preds = torch.max(outputs.data, 1)\n",
    "            valid_running_correct += (preds == labels).sum().item()\n",
    "            # calculate the accuracy for each class\n",
    "            correct  = (preds == labels).squeeze()\n",
    "            for i in range(len(preds)):\n",
    "                label = labels[i]\n",
    "                class_correct[label] += correct[i].item()\n",
    "                class_total[label] += 1\n",
    "        \n",
    "    epoch_loss = valid_running_loss / counter\n",
    "    epoch_acc = 100. * (valid_running_correct / len(valid_dataloader.dataset))\n",
    "    # print the accuracy for each class after evey epoch\n",
    "    # the values should increase as the training goes on\n",
    "    print('\\n')\n",
    "    for i in range(6):\n",
    "        print(f\"Accuracy of class {classes[i]}: {100*class_correct[i]/class_total[i]}\")\n",
    "    return epoch_loss, epoch_acc\n",
    "\n",
    "def training_loop(model, criterion, optimizer, epochs):\n",
    "    # start the training\n",
    "    # lists to keep track of losses and accuracies\n",
    "    train_loss, valid_loss = [], []\n",
    "    train_acc, valid_acc = [], []\n",
    "    early_stopping = EarlyStopping(tolerance=3, min_delta=10)\n",
    "    for epoch in range(epochs):\n",
    "        print(f\"[INFO]: Epoch {epoch+1} of {epochs}\")\n",
    "        train_epoch_loss, train_epoch_acc = train(model, optimizer, criterion)\n",
    "        valid_epoch_loss, valid_epoch_acc = validate(model, criterion)\n",
    "        train_loss.append(train_epoch_loss)\n",
    "        valid_loss.append(valid_epoch_loss)\n",
    "        train_acc.append(train_epoch_acc)\n",
    "        valid_acc.append(valid_epoch_acc)\n",
    "        print('\\n')\n",
    "        print(f\"Training loss: {train_epoch_loss:.3f}, training acc: {train_epoch_acc:.3f}\")\n",
    "        print(f\"Validation loss: {valid_epoch_loss:.3f}, validation acc: {valid_epoch_acc:.3f}\")\n",
    "        print('-'*50)\n",
    "        \n",
    "        ## EARLY STOPPING\n",
    "        early_stopping(train_epoch_loss, valid_epoch_loss)\n",
    "        if early_stopping.early_stop:\n",
    "            print(\"We are at epoch:\", i)\n",
    "            break\n",
    "            \n",
    "    plt.figure(figsize=(10, 7))\n",
    "    plt.plot(train_acc, color='green', linestyle='-', label='train accuracy')\n",
    "    plt.plot(valid_acc, color='blue', linestyle='-', label='validataion accuracy')\n",
    "    plt.xlabel('Epochs')\n",
    "    plt.ylabel('Accuracy')\n",
    "    plt.legend()\n",
    "    plt.show()\n",
    "    # loss plots\n",
    "    \n",
    "    plt.figure(figsize=(10, 7))\n",
    "    plt.plot(train_loss, color='orange', linestyle='-', label='train loss')\n",
    "    plt.plot(valid_loss, color='red', linestyle='-', label='validataion loss')\n",
    "    plt.xlabel('Epochs')\n",
    "    plt.ylabel('Loss')\n",
    "    plt.legend()\n",
    "    plt.show()\n",
    "\n",
    "    print('TRAINING COMPLETE')"
   ]
  },
  {
   "cell_type": "code",
   "execution_count": 12,
   "id": "7ddcd306",
   "metadata": {},
   "outputs": [],
   "source": [
    "## This function evaluates the model on the test dataset, \n",
    "## returns accuracy and f1-score of the model\n",
    "def test(model):\n",
    "    correct = 0\n",
    "    total = 0\n",
    "    predictions = []\n",
    "    true_labels = []\n",
    "    with torch.no_grad():\n",
    "        for data in test_dataloader:\n",
    "            images, labels = data[0].to(device), data[1].to(device)\n",
    "            # calculate outputs by running images through the network\n",
    "            outputs = model(images)\n",
    "            # the class with the highest energy is what we choose as prediction\n",
    "            _, predicted = torch.max(outputs.data, 1)\n",
    "            total += labels.size(0)\n",
    "            correct += (predicted == labels).sum().item()\n",
    "            predictions.extend(predicted.cpu().numpy())\n",
    "            true_labels.extend(labels.cpu().numpy())\n",
    "\n",
    "    accuracy = 100 * correct // total\n",
    "    f1 = f1_score(true_labels, predictions, average='weighted')\n",
    "    print(f'Accuracy of the network on the test images: {accuracy} %')\n",
    "    print(f'F1-score of the network on the test images: {f1}')"
   ]
  },
  {
   "cell_type": "code",
   "execution_count": 13,
   "id": "24a8e25d",
   "metadata": {},
   "outputs": [],
   "source": [
    "def class_accuracy(model):\n",
    "    # prepare to count predictions for each class\n",
    "    correct_pred = {classname: 0 for classname in classes}\n",
    "    total_pred = {classname: 0 for classname in classes}\n",
    "\n",
    "    # again no gradients needed\n",
    "    with torch.no_grad():\n",
    "        for data in test_dataloader:\n",
    "            images, labels = data[0].to(device), data[1].to(device)\n",
    "            outputs = model(images)\n",
    "            _, predictions = torch.max(outputs, 1)\n",
    "            # collect the correct predictions for each class\n",
    "            for label, prediction in zip(labels, predictions):\n",
    "                if label == prediction:\n",
    "                    correct_pred[classes[label]] += 1\n",
    "                total_pred[classes[label]] += 1\n",
    "\n",
    "\n",
    "    # print accuracy for each class\n",
    "    for classname, correct_count in correct_pred.items():\n",
    "        accuracy = 100 * float(correct_count) / total_pred[classname]\n",
    "        print(f'Accuracy for class: {classname:5s} is {accuracy:.1f} %')"
   ]
  },
  {
   "cell_type": "code",
   "execution_count": 14,
   "id": "b1beffae",
   "metadata": {},
   "outputs": [],
   "source": [
    "## Given explore_class in [0,1,2,3,4,5], understand whether explore_class was misclassified\n",
    "## understand what the misclassification were\n",
    "def explore(model, explore_class):\n",
    "    classifications = {\n",
    "        classes[0]:0,\n",
    "        classes[1]:0,\n",
    "        classes[2]:0,\n",
    "        classes[3]:0,\n",
    "        classes[4]:0,\n",
    "        classes[5]:0\n",
    "    }\n",
    "    # again no gradients needed\n",
    "    with torch.no_grad():\n",
    "        for data in test_dataloader:\n",
    "            images, labels = data[0].to(device), data[1].to(device)\n",
    "            outputs = model(images)\n",
    "            _, predictions = torch.max(outputs, 1)\n",
    "            # collect the correct predictions for each class\n",
    "            for label, prediction in zip(labels, predictions):\n",
    "                if label == explore_class:\n",
    "                    classifications[classes[prediction]] += 1\n",
    "                        \n",
    "    plt.bar(classifications.keys(), classifications.values(), color ='maroon', width = 0.4)\n",
    "    plt.xlabel(\"Predictions for: \"+ str(classes[explore_class]))\n",
    "    plt.ylabel(\"Numbers\")\n",
    "    plt.show()\n",
    "    "
   ]
  },
  {
   "cell_type": "markdown",
   "id": "3d4e379f",
   "metadata": {},
   "source": [
    "## Model "
   ]
  },
  {
   "cell_type": "markdown",
   "id": "f12b9725",
   "metadata": {},
   "source": [
    "### Model building process\n",
    "1. Try sample image classification model from PyTorch website.\n",
    "2. Iteratively build on sample model to see if accuracy can be improved. \n",
    "3. Implement the 'tried and tested' VGG-11 architecture"
   ]
  },
  {
   "cell_type": "markdown",
   "id": "c8d0498a",
   "metadata": {},
   "source": [
    "### Let's try the same image classification model from the Pytorch image classification tutorial\n",
    "https://pytorch.org/tutorials/beginner/blitz/cifar10_tutorial.html"
   ]
  },
  {
   "cell_type": "code",
   "execution_count": 24,
   "id": "c7d8e29a",
   "metadata": {},
   "outputs": [
    {
     "data": {
      "text/plain": [
       "Net(\n",
       "  (conv1): Conv2d(3, 64, kernel_size=(3, 3), stride=(1, 1), padding=(1, 1))\n",
       "  (pool): MaxPool2d(kernel_size=2, stride=2, padding=0, dilation=1, ceil_mode=False)\n",
       "  (conv2): Conv2d(64, 128, kernel_size=(3, 3), stride=(1, 1), padding=(1, 1))\n",
       "  (fc1): Linear(in_features=401408, out_features=1296, bias=True)\n",
       "  (fc2): Linear(in_features=1296, out_features=216, bias=True)\n",
       "  (fc3): Linear(in_features=216, out_features=6, bias=True)\n",
       ")"
      ]
     },
     "execution_count": 24,
     "metadata": {},
     "output_type": "execute_result"
    }
   ],
   "source": [
    "import torch.nn as nn\n",
    "import torch.nn.functional as F\n",
    "\n",
    "class Net(nn.Module):\n",
    "    def __init__(self):\n",
    "        super().__init__()\n",
    "        self.conv1 = nn.Conv2d(3, 64, kernel_size=3, padding=1)\n",
    "        self.pool = nn.MaxPool2d(kernel_size=2, stride=2)\n",
    "        self.conv2 = nn.Conv2d(64, 128, kernel_size=3, padding=1)\n",
    "        \n",
    "        self.fc1 = nn.Linear(128 * 56 * 56, 1296)\n",
    "        self.fc2 = nn.Linear(1296, 216)\n",
    "        self.fc3 = nn.Linear(216, 6)\n",
    "\n",
    "    def forward(self, x):\n",
    "        x = self.pool(F.relu(self.conv1(x)))\n",
    "        x = self.pool(F.relu(self.conv2(x)))\n",
    "        x = torch.flatten(x, 1) \n",
    "        x = F.relu(self.fc1(x))\n",
    "        x = F.relu(self.fc2(x))\n",
    "        x = self.fc3(x)\n",
    "        return x\n",
    "    \n",
    "    def epoch_end(self, epoch, result):\n",
    "        print(\"Epoch {}: train_loss: {:.4f}, val_loss: {:.4f}, val_acc: {:.4f}\".format(\n",
    "            epoch+1, result['train_loss'], result['val_loss'], result['val_acc']))\n",
    "\n",
    "device = torch.device(\"cuda:0\" if torch.cuda.is_available() else 'cpu')\n",
    "\n",
    "net = Net()\n",
    "net.to(device)"
   ]
  },
  {
   "cell_type": "code",
   "execution_count": 25,
   "id": "46e3f0ff",
   "metadata": {},
   "outputs": [],
   "source": [
    "import torch.optim as optim\n",
    "\n",
    "criterion = nn.CrossEntropyLoss()\n",
    "optimizer = optim.SGD(net.parameters(), lr=0.001, momentum=0.9, weight_decay=0.001)"
   ]
  },
  {
   "cell_type": "code",
   "execution_count": 26,
   "id": "4a68cf1a",
   "metadata": {
    "scrolled": true
   },
   "outputs": [
    {
     "name": "stdout",
     "output_type": "stream",
     "text": [
      "[INFO]: Epoch 1 of 10\n",
      "Training\n"
     ]
    },
    {
     "name": "stderr",
     "output_type": "stream",
     "text": [
      "100%|█████████████████████████████████████████████████████████████████████████████████| 505/505 [00:19<00:00, 25.54it/s]"
     ]
    },
    {
     "name": "stdout",
     "output_type": "stream",
     "text": [
      "Validation\n"
     ]
    },
    {
     "name": "stderr",
     "output_type": "stream",
     "text": [
      "\n",
      "100%|██████████████████████████████████████████████████████████████████████████████████| 64/64 [00:00<00:00, 160.66it/s]"
     ]
    },
    {
     "name": "stdout",
     "output_type": "stream",
     "text": [
      "\n",
      "\n",
      "Accuracy of class metal: 56.41025641025641\n",
      "Accuracy of class trash: 76.36363636363636\n",
      "Accuracy of class paper: 12.820512820512821\n",
      "Accuracy of class glass: 37.096774193548384\n",
      "Accuracy of class plastic: 66.66666666666667\n",
      "Accuracy of class cardboard: 0.0\n",
      "\n",
      "\n",
      "Training loss: 1.486, training acc: 40.248\n",
      "Validation loss: 1.318, validation acc: 47.244\n",
      "--------------------------------------------------\n",
      "[INFO]: Epoch 2 of 10\n",
      "Training\n"
     ]
    },
    {
     "name": "stderr",
     "output_type": "stream",
     "text": [
      "\n",
      "100%|█████████████████████████████████████████████████████████████████████████████████| 505/505 [00:19<00:00, 25.48it/s]"
     ]
    },
    {
     "name": "stdout",
     "output_type": "stream",
     "text": [
      "Validation\n"
     ]
    },
    {
     "name": "stderr",
     "output_type": "stream",
     "text": [
      "\n",
      "100%|██████████████████████████████████████████████████████████████████████████████████| 64/64 [00:00<00:00, 160.81it/s]"
     ]
    },
    {
     "name": "stdout",
     "output_type": "stream",
     "text": [
      "\n",
      "\n",
      "Accuracy of class metal: 51.282051282051285\n",
      "Accuracy of class trash: 30.90909090909091\n",
      "Accuracy of class paper: 58.97435897435897\n",
      "Accuracy of class glass: 66.12903225806451\n",
      "Accuracy of class plastic: 78.57142857142857\n",
      "Accuracy of class cardboard: 11.764705882352942\n",
      "\n",
      "\n",
      "Training loss: 1.198, training acc: 53.812\n",
      "Validation loss: 1.193, validation acc: 53.543\n",
      "--------------------------------------------------\n",
      "[INFO]: Epoch 3 of 10\n",
      "Training\n"
     ]
    },
    {
     "name": "stderr",
     "output_type": "stream",
     "text": [
      "\n",
      "100%|█████████████████████████████████████████████████████████████████████████████████| 505/505 [00:19<00:00, 25.45it/s]"
     ]
    },
    {
     "name": "stdout",
     "output_type": "stream",
     "text": [
      "Validation\n"
     ]
    },
    {
     "name": "stderr",
     "output_type": "stream",
     "text": [
      "\n",
      "100%|██████████████████████████████████████████████████████████████████████████████████| 64/64 [00:00<00:00, 152.73it/s]"
     ]
    },
    {
     "name": "stdout",
     "output_type": "stream",
     "text": [
      "\n",
      "\n",
      "Accuracy of class metal: 53.84615384615385\n",
      "Accuracy of class trash: 47.27272727272727\n",
      "Accuracy of class paper: 56.41025641025641\n",
      "Accuracy of class glass: 93.54838709677419\n",
      "Accuracy of class plastic: 64.28571428571429\n",
      "Accuracy of class cardboard: 47.05882352941177\n",
      "\n",
      "\n",
      "Training loss: 0.962, training acc: 64.653\n",
      "Validation loss: 1.054, validation acc: 63.780\n",
      "--------------------------------------------------\n",
      "[INFO]: Epoch 4 of 10\n",
      "Training\n"
     ]
    },
    {
     "name": "stderr",
     "output_type": "stream",
     "text": [
      "\n",
      "100%|█████████████████████████████████████████████████████████████████████████████████| 505/505 [00:19<00:00, 25.49it/s]"
     ]
    },
    {
     "name": "stdout",
     "output_type": "stream",
     "text": [
      "Validation\n"
     ]
    },
    {
     "name": "stderr",
     "output_type": "stream",
     "text": [
      "\n",
      "100%|██████████████████████████████████████████████████████████████████████████████████| 64/64 [00:00<00:00, 158.99it/s]\n"
     ]
    },
    {
     "name": "stdout",
     "output_type": "stream",
     "text": [
      "\n",
      "\n",
      "Accuracy of class metal: 69.23076923076923\n",
      "Accuracy of class trash: 50.90909090909091\n",
      "Accuracy of class paper: 28.205128205128204\n",
      "Accuracy of class glass: 98.38709677419355\n",
      "Accuracy of class plastic: 59.523809523809526\n",
      "Accuracy of class cardboard: 64.70588235294117\n",
      "\n",
      "\n",
      "Training loss: 0.777, training acc: 71.436\n",
      "Validation loss: 1.049, validation acc: 64.173\n",
      "--------------------------------------------------\n",
      "[INFO]: Epoch 5 of 10\n",
      "Training\n"
     ]
    },
    {
     "name": "stderr",
     "output_type": "stream",
     "text": [
      "100%|█████████████████████████████████████████████████████████████████████████████████| 505/505 [00:19<00:00, 25.41it/s]"
     ]
    },
    {
     "name": "stdout",
     "output_type": "stream",
     "text": [
      "Validation\n"
     ]
    },
    {
     "name": "stderr",
     "output_type": "stream",
     "text": [
      "\n",
      "100%|██████████████████████████████████████████████████████████████████████████████████| 64/64 [00:00<00:00, 157.35it/s]"
     ]
    },
    {
     "name": "stdout",
     "output_type": "stream",
     "text": [
      "\n",
      "\n",
      "Accuracy of class metal: 66.66666666666667\n",
      "Accuracy of class trash: 67.27272727272727\n",
      "Accuracy of class paper: 69.23076923076923\n",
      "Accuracy of class glass: 87.09677419354838\n",
      "Accuracy of class plastic: 69.04761904761905\n",
      "Accuracy of class cardboard: 35.294117647058826\n",
      "\n",
      "\n",
      "Training loss: 0.607, training acc: 78.218\n",
      "Validation loss: 0.986, validation acc: 70.472\n",
      "--------------------------------------------------\n",
      "[INFO]: Epoch 6 of 10\n",
      "Training\n"
     ]
    },
    {
     "name": "stderr",
     "output_type": "stream",
     "text": [
      "\n",
      "100%|█████████████████████████████████████████████████████████████████████████████████| 505/505 [00:19<00:00, 25.45it/s]"
     ]
    },
    {
     "name": "stdout",
     "output_type": "stream",
     "text": [
      "Validation\n"
     ]
    },
    {
     "name": "stderr",
     "output_type": "stream",
     "text": [
      "\n",
      "100%|██████████████████████████████████████████████████████████████████████████████████| 64/64 [00:00<00:00, 158.85it/s]"
     ]
    },
    {
     "name": "stdout",
     "output_type": "stream",
     "text": [
      "\n",
      "\n",
      "Accuracy of class metal: 74.35897435897436\n",
      "Accuracy of class trash: 78.18181818181819\n",
      "Accuracy of class paper: 58.97435897435897\n",
      "Accuracy of class glass: 82.25806451612904\n",
      "Accuracy of class plastic: 45.23809523809524\n",
      "Accuracy of class cardboard: 52.94117647058823\n",
      "\n",
      "\n",
      "Training loss: 0.390, training acc: 86.535\n",
      "Validation loss: 0.979, validation acc: 68.504\n",
      "--------------------------------------------------\n",
      "[INFO]: Epoch 7 of 10\n",
      "Training\n"
     ]
    },
    {
     "name": "stderr",
     "output_type": "stream",
     "text": [
      "\n",
      "100%|█████████████████████████████████████████████████████████████████████████████████| 505/505 [00:19<00:00, 25.44it/s]"
     ]
    },
    {
     "name": "stdout",
     "output_type": "stream",
     "text": [
      "Validation\n"
     ]
    },
    {
     "name": "stderr",
     "output_type": "stream",
     "text": [
      "\n",
      "100%|██████████████████████████████████████████████████████████████████████████████████| 64/64 [00:00<00:00, 158.04it/s]"
     ]
    },
    {
     "name": "stdout",
     "output_type": "stream",
     "text": [
      "\n",
      "\n",
      "Accuracy of class metal: 66.66666666666667\n",
      "Accuracy of class trash: 72.72727272727273\n",
      "Accuracy of class paper: 33.333333333333336\n",
      "Accuracy of class glass: 80.64516129032258\n",
      "Accuracy of class plastic: 71.42857142857143\n",
      "Accuracy of class cardboard: 35.294117647058826\n",
      "\n",
      "\n",
      "Training loss: 0.273, training acc: 90.594\n",
      "Validation loss: 1.283, validation acc: 64.961\n",
      "--------------------------------------------------\n",
      "[INFO]: Epoch 8 of 10\n",
      "Training\n"
     ]
    },
    {
     "name": "stderr",
     "output_type": "stream",
     "text": [
      "\n",
      "100%|█████████████████████████████████████████████████████████████████████████████████| 505/505 [00:19<00:00, 25.42it/s]"
     ]
    },
    {
     "name": "stdout",
     "output_type": "stream",
     "text": [
      "Validation\n"
     ]
    },
    {
     "name": "stderr",
     "output_type": "stream",
     "text": [
      "\n",
      "100%|██████████████████████████████████████████████████████████████████████████████████| 64/64 [00:00<00:00, 157.74it/s]"
     ]
    },
    {
     "name": "stdout",
     "output_type": "stream",
     "text": [
      "\n",
      "\n",
      "Accuracy of class metal: 71.7948717948718\n",
      "Accuracy of class trash: 69.0909090909091\n",
      "Accuracy of class paper: 58.97435897435897\n",
      "Accuracy of class glass: 88.70967741935483\n",
      "Accuracy of class plastic: 54.76190476190476\n",
      "Accuracy of class cardboard: 41.1764705882353\n",
      "\n",
      "\n",
      "Training loss: 0.162, training acc: 95.099\n",
      "Validation loss: 1.243, validation acc: 68.504\n",
      "--------------------------------------------------\n",
      "[INFO]: Epoch 9 of 10\n",
      "Training\n"
     ]
    },
    {
     "name": "stderr",
     "output_type": "stream",
     "text": [
      "\n",
      "100%|█████████████████████████████████████████████████████████████████████████████████| 505/505 [00:19<00:00, 25.38it/s]"
     ]
    },
    {
     "name": "stdout",
     "output_type": "stream",
     "text": [
      "Validation\n"
     ]
    },
    {
     "name": "stderr",
     "output_type": "stream",
     "text": [
      "\n",
      "100%|██████████████████████████████████████████████████████████████████████████████████| 64/64 [00:00<00:00, 159.47it/s]"
     ]
    },
    {
     "name": "stdout",
     "output_type": "stream",
     "text": [
      "\n",
      "\n",
      "Accuracy of class metal: 71.7948717948718\n",
      "Accuracy of class trash: 61.81818181818182\n",
      "Accuracy of class paper: 64.1025641025641\n",
      "Accuracy of class glass: 83.87096774193549\n",
      "Accuracy of class plastic: 69.04761904761905\n",
      "Accuracy of class cardboard: 64.70588235294117\n",
      "\n",
      "\n",
      "Training loss: 0.148, training acc: 94.505\n",
      "Validation loss: 1.143, validation acc: 70.472\n",
      "--------------------------------------------------\n",
      "[INFO]: Epoch 10 of 10\n",
      "Training\n"
     ]
    },
    {
     "name": "stderr",
     "output_type": "stream",
     "text": [
      "\n",
      "100%|█████████████████████████████████████████████████████████████████████████████████| 505/505 [00:19<00:00, 25.45it/s]"
     ]
    },
    {
     "name": "stdout",
     "output_type": "stream",
     "text": [
      "Validation\n"
     ]
    },
    {
     "name": "stderr",
     "output_type": "stream",
     "text": [
      "\n",
      "100%|██████████████████████████████████████████████████████████████████████████████████| 64/64 [00:00<00:00, 157.17it/s]"
     ]
    },
    {
     "name": "stdout",
     "output_type": "stream",
     "text": [
      "\n",
      "\n",
      "Accuracy of class metal: 71.7948717948718\n",
      "Accuracy of class trash: 61.81818181818182\n",
      "Accuracy of class paper: 56.41025641025641\n",
      "Accuracy of class glass: 79.03225806451613\n",
      "Accuracy of class plastic: 57.142857142857146\n",
      "Accuracy of class cardboard: 47.05882352941177\n",
      "\n",
      "\n",
      "Training loss: 0.079, training acc: 97.475\n",
      "Validation loss: 1.533, validation acc: 64.961\n",
      "--------------------------------------------------\n"
     ]
    },
    {
     "name": "stderr",
     "output_type": "stream",
     "text": [
      "\n"
     ]
    },
    {
     "data": {
      "image/png": "[encoded data removed]",
      "text/plain": [
       "<Figure size 720x504 with 1 Axes>"
      ]
     },
     "metadata": {
      "needs_background": "light"
     },
     "output_type": "display_data"
    },
    {
     "data": {
      "image/png": "[encoded data removed]",
      "text/plain": [
       "<Figure size 720x504 with 1 Axes>"
      ]
     },
     "metadata": {
      "needs_background": "light"
     },
     "output_type": "display_data"
    },
    {
     "name": "stdout",
     "output_type": "stream",
     "text": [
      "TRAINING COMPLETE\n"
     ]
    }
   ],
   "source": [
    "training_loop(net, criterion, optimizer, 10)"
   ]
  },
  {
   "cell_type": "code",
   "execution_count": 27,
   "id": "28ad71d4",
   "metadata": {},
   "outputs": [],
   "source": [
    "PATH = './garbage_net.pth'\n",
    "torch.save(net.state_dict(), PATH)"
   ]
  },
  {
   "cell_type": "code",
   "execution_count": 28,
   "id": "d12213e0",
   "metadata": {},
   "outputs": [
    {
     "data": {
      "text/plain": [
       "<All keys matched successfully>"
      ]
     },
     "execution_count": 28,
     "metadata": {},
     "output_type": "execute_result"
    }
   ],
   "source": [
    "net = Net()\n",
    "net.load_state_dict(torch.load(PATH))"
   ]
  },
  {
   "cell_type": "code",
   "execution_count": 29,
   "id": "46232a4f",
   "metadata": {},
   "outputs": [
    {
     "name": "stdout",
     "output_type": "stream",
     "text": [
      "Accuracy of the network on the test images: 60 %\n",
      "F1-score of the network on the test images: 0.6020185757907471\n"
     ]
    }
   ],
   "source": [
    "net.cuda()\n",
    "test(net)"
   ]
  },
  {
   "cell_type": "code",
   "execution_count": 30,
   "id": "9956125d",
   "metadata": {},
   "outputs": [
    {
     "name": "stdout",
     "output_type": "stream",
     "text": [
      "Accuracy for class: metal is 81.6 %\n",
      "Accuracy for class: trash is 52.0 %\n",
      "Accuracy for class: paper is 53.2 %\n",
      "Accuracy for class: glass is 72.7 %\n",
      "Accuracy for class: plastic is 48.9 %\n",
      "Accuracy for class: cardboard is 43.8 %\n"
     ]
    }
   ],
   "source": [
    "net.cuda()\n",
    "class_accuracy(net)"
   ]
  },
  {
   "cell_type": "code",
   "execution_count": 31,
   "id": "d374f20c",
   "metadata": {},
   "outputs": [
    {
     "data": {
      "image/png": "[encoded data removed]",
      "text/plain": [
       "<Figure size 432x288 with 1 Axes>"
      ]
     },
     "metadata": {
      "needs_background": "light"
     },
     "output_type": "display_data"
    }
   ],
   "source": [
    "explore(net, 5)"
   ]
  },
  {
   "cell_type": "code",
   "execution_count": 32,
   "id": "df5a7483",
   "metadata": {},
   "outputs": [],
   "source": [
    "del Net\n",
    "del net"
   ]
  },
  {
   "cell_type": "markdown",
   "id": "6fd15a49",
   "metadata": {},
   "source": [
    "Observations\n",
    "1. We get a an overall accuracy of 60%. All classes do significantly better than chance.\n",
    "2. Cardboard classification accuracy is low.\n",
    "3. Trash classification accuracy is as bad as 3 other classes. No need to change distribution.\n",
    "4. Looking at the results of the explore function, cardboard was most commonly misclassified as paper.\n",
    "5. Looking at the training loss and validation loss curves, there is evidence of overfitting."
   ]
  },
  {
   "cell_type": "markdown",
   "id": "27e2ec9a",
   "metadata": {},
   "source": [
    "## Let's try with an improved CNN"
   ]
  },
  {
   "cell_type": "markdown",
   "id": "e6f0defa",
   "metadata": {},
   "source": [
    "We'll use LeakyReLu instead of ReLu and we'll set **inplace = True** to save some memory and training time. This claim is supported by https://github.com/pytorch/vision/issues/807 "
   ]
  },
  {
   "cell_type": "code",
   "execution_count": 15,
   "id": "760a03e8",
   "metadata": {},
   "outputs": [
    {
     "data": {
      "text/plain": [
       "ImpNet(\n",
       "  (conv1): Conv2d(3, 64, kernel_size=(3, 3), stride=(1, 1), padding=(1, 1))\n",
       "  (pool): MaxPool2d(kernel_size=2, stride=2, padding=0, dilation=1, ceil_mode=False)\n",
       "  (conv2): Conv2d(64, 128, kernel_size=(3, 3), stride=(1, 1), padding=(1, 1))\n",
       "  (fc1): Linear(in_features=401408, out_features=1296, bias=True)\n",
       "  (fc2): Linear(in_features=1296, out_features=216, bias=True)\n",
       "  (fc3): Linear(in_features=216, out_features=6, bias=True)\n",
       ")"
      ]
     },
     "execution_count": 15,
     "metadata": {},
     "output_type": "execute_result"
    }
   ],
   "source": [
    "import torch.nn as nn\n",
    "import torch.nn.functional as F\n",
    "\n",
    "class ImpNet(nn.Module):\n",
    "    def __init__(self):\n",
    "        super().__init__()\n",
    "        self.conv1 = nn.Conv2d(3, 64, kernel_size=3, padding=1)\n",
    "        self.pool = nn.MaxPool2d(kernel_size=2, stride=2)\n",
    "        self.conv2 = nn.Conv2d(64, 128, kernel_size=3, padding=1)\n",
    "        self.fc1 = nn.Linear(128 * 56 * 56, 1296)\n",
    "        self.fc2 = nn.Linear(1296, 216)\n",
    "        self.fc3 = nn.Linear(216, 6)\n",
    "\n",
    "    def forward(self, x):\n",
    "        \n",
    "        x = self.pool(F.leaky_relu(self.conv1(x), inplace=True))\n",
    "        x = self.pool(F.leaky_relu(self.conv2(x), inplace=True))\n",
    "        \n",
    "        x = torch.flatten(x, 1) # flatten all dimensions except batch\n",
    "        x = F.relu(self.fc1(x), inplace=True)\n",
    "        x = F.relu(self.fc2(x), inplace=True)\n",
    "        x = self.fc3(x)\n",
    "        return x\n",
    "    \n",
    "    def epoch_end(self, epoch, result):\n",
    "        print(\"Epoch {}: train_loss: {:.4f}, val_loss: {:.4f}, val_acc: {:.4f}\".format(\n",
    "            epoch+1, result['train_loss'], result['val_loss'], result['val_acc']))\n",
    "\n",
    "device = torch.device('cuda:0' if torch.cuda.is_available() else 'cpu')\n",
    "impnet = ImpNet()\n",
    "impnet.to(device)"
   ]
  },
  {
   "cell_type": "code",
   "execution_count": 16,
   "id": "8b8ecce2",
   "metadata": {},
   "outputs": [],
   "source": [
    "import torch.optim as optim\n",
    "\n",
    "criterion = nn.CrossEntropyLoss()\n",
    "optimizer = optim.SGD(impnet.parameters(), lr=0.001, momentum=0.9)"
   ]
  },
  {
   "cell_type": "code",
   "execution_count": 17,
   "id": "cbc2d2d6",
   "metadata": {
    "scrolled": true
   },
   "outputs": [
    {
     "name": "stdout",
     "output_type": "stream",
     "text": [
      "[INFO]: Epoch 1 of 10\n",
      "Training\n"
     ]
    },
    {
     "name": "stderr",
     "output_type": "stream",
     "text": [
      "100%|█████████████████████████████████████████████████████████████████████████████████| 505/505 [00:16<00:00, 29.86it/s]"
     ]
    },
    {
     "name": "stdout",
     "output_type": "stream",
     "text": [
      "Validation\n"
     ]
    },
    {
     "name": "stderr",
     "output_type": "stream",
     "text": [
      "\n",
      "100%|██████████████████████████████████████████████████████████████████████████████████| 64/64 [00:00<00:00, 157.12it/s]"
     ]
    },
    {
     "name": "stdout",
     "output_type": "stream",
     "text": [
      "\n",
      "\n",
      "Accuracy of class metal: 56.41025641025641\n",
      "Accuracy of class trash: 49.09090909090909\n",
      "Accuracy of class paper: 20.512820512820515\n",
      "Accuracy of class glass: 77.41935483870968\n",
      "Accuracy of class plastic: 59.523809523809526\n",
      "Accuracy of class cardboard: 11.764705882352942\n",
      "\n",
      "\n",
      "Training loss: 1.487, training acc: 40.099\n",
      "Validation loss: 1.268, validation acc: 51.969\n",
      "--------------------------------------------------\n",
      "[INFO]: Epoch 2 of 10\n",
      "Training\n"
     ]
    },
    {
     "name": "stderr",
     "output_type": "stream",
     "text": [
      "\n",
      "100%|█████████████████████████████████████████████████████████████████████████████████| 505/505 [00:15<00:00, 31.66it/s]"
     ]
    },
    {
     "name": "stdout",
     "output_type": "stream",
     "text": [
      "Validation\n"
     ]
    },
    {
     "name": "stderr",
     "output_type": "stream",
     "text": [
      "\n",
      "100%|██████████████████████████████████████████████████████████████████████████████████| 64/64 [00:00<00:00, 159.82it/s]\n"
     ]
    },
    {
     "name": "stdout",
     "output_type": "stream",
     "text": [
      "\n",
      "\n",
      "Accuracy of class metal: 51.282051282051285\n",
      "Accuracy of class trash: 45.45454545454545\n",
      "Accuracy of class paper: 15.384615384615385\n",
      "Accuracy of class glass: 80.64516129032258\n",
      "Accuracy of class plastic: 73.80952380952381\n",
      "Accuracy of class cardboard: 52.94117647058823\n",
      "\n",
      "\n",
      "Training loss: 1.147, training acc: 56.634\n",
      "Validation loss: 1.210, validation acc: 55.512\n",
      "--------------------------------------------------\n",
      "[INFO]: Epoch 3 of 10\n",
      "Training\n"
     ]
    },
    {
     "name": "stderr",
     "output_type": "stream",
     "text": [
      "100%|█████████████████████████████████████████████████████████████████████████████████| 505/505 [00:15<00:00, 31.65it/s]"
     ]
    },
    {
     "name": "stdout",
     "output_type": "stream",
     "text": [
      "Validation\n"
     ]
    },
    {
     "name": "stderr",
     "output_type": "stream",
     "text": [
      "\n",
      "100%|██████████████████████████████████████████████████████████████████████████████████| 64/64 [00:00<00:00, 158.92it/s]\n"
     ]
    },
    {
     "name": "stdout",
     "output_type": "stream",
     "text": [
      "\n",
      "\n",
      "Accuracy of class metal: 74.35897435897436\n",
      "Accuracy of class trash: 65.45454545454545\n",
      "Accuracy of class paper: 28.205128205128204\n",
      "Accuracy of class glass: 100.0\n",
      "Accuracy of class plastic: 54.76190476190476\n",
      "Accuracy of class cardboard: 52.94117647058823\n",
      "\n",
      "\n",
      "Training loss: 0.972, training acc: 64.257\n",
      "Validation loss: 0.955, validation acc: 66.929\n",
      "--------------------------------------------------\n",
      "[INFO]: Epoch 4 of 10\n",
      "Training\n"
     ]
    },
    {
     "name": "stderr",
     "output_type": "stream",
     "text": [
      "100%|█████████████████████████████████████████████████████████████████████████████████| 505/505 [00:16<00:00, 31.51it/s]"
     ]
    },
    {
     "name": "stdout",
     "output_type": "stream",
     "text": [
      "Validation\n"
     ]
    },
    {
     "name": "stderr",
     "output_type": "stream",
     "text": [
      "\n",
      "100%|██████████████████████████████████████████████████████████████████████████████████| 64/64 [00:00<00:00, 158.07it/s]"
     ]
    },
    {
     "name": "stdout",
     "output_type": "stream",
     "text": [
      "\n",
      "\n",
      "Accuracy of class metal: 69.23076923076923\n",
      "Accuracy of class trash: 65.45454545454545\n",
      "Accuracy of class paper: 53.84615384615385\n",
      "Accuracy of class glass: 91.93548387096774\n",
      "Accuracy of class plastic: 71.42857142857143\n",
      "Accuracy of class cardboard: 41.1764705882353\n",
      "\n",
      "\n",
      "Training loss: 0.792, training acc: 72.030\n",
      "Validation loss: 0.866, validation acc: 70.079\n",
      "--------------------------------------------------\n",
      "[INFO]: Epoch 5 of 10\n",
      "Training\n"
     ]
    },
    {
     "name": "stderr",
     "output_type": "stream",
     "text": [
      "\n",
      "100%|█████████████████████████████████████████████████████████████████████████████████| 505/505 [00:16<00:00, 31.54it/s]"
     ]
    },
    {
     "name": "stdout",
     "output_type": "stream",
     "text": [
      "Validation\n"
     ]
    },
    {
     "name": "stderr",
     "output_type": "stream",
     "text": [
      "\n",
      "100%|██████████████████████████████████████████████████████████████████████████████████| 64/64 [00:00<00:00, 156.32it/s]"
     ]
    },
    {
     "name": "stdout",
     "output_type": "stream",
     "text": [
      "\n",
      "\n",
      "Accuracy of class metal: 66.66666666666667\n",
      "Accuracy of class trash: 89.0909090909091\n",
      "Accuracy of class paper: 48.717948717948715\n",
      "Accuracy of class glass: 79.03225806451613\n",
      "Accuracy of class plastic: 66.66666666666667\n",
      "Accuracy of class cardboard: 52.94117647058823\n",
      "\n",
      "\n",
      "Training loss: 0.636, training acc: 76.634\n",
      "Validation loss: 0.835, validation acc: 70.866\n",
      "--------------------------------------------------\n",
      "[INFO]: Epoch 6 of 10\n",
      "Training\n"
     ]
    },
    {
     "name": "stderr",
     "output_type": "stream",
     "text": [
      "\n",
      "100%|█████████████████████████████████████████████████████████████████████████████████| 505/505 [00:16<00:00, 31.48it/s]"
     ]
    },
    {
     "name": "stdout",
     "output_type": "stream",
     "text": [
      "Validation\n"
     ]
    },
    {
     "name": "stderr",
     "output_type": "stream",
     "text": [
      "\n",
      "100%|██████████████████████████████████████████████████████████████████████████████████| 64/64 [00:00<00:00, 159.17it/s]"
     ]
    },
    {
     "name": "stdout",
     "output_type": "stream",
     "text": [
      "\n",
      "\n",
      "Accuracy of class metal: 76.92307692307692\n",
      "Accuracy of class trash: 50.90909090909091\n",
      "Accuracy of class paper: 61.53846153846154\n",
      "Accuracy of class glass: 79.03225806451613\n",
      "Accuracy of class plastic: 80.95238095238095\n",
      "Accuracy of class cardboard: 47.05882352941177\n",
      "\n",
      "\n",
      "Training loss: 0.392, training acc: 86.485\n",
      "Validation loss: 0.988, validation acc: 68.110\n",
      "--------------------------------------------------\n",
      "[INFO]: Epoch 7 of 10\n",
      "Training\n"
     ]
    },
    {
     "name": "stderr",
     "output_type": "stream",
     "text": [
      "\n",
      "100%|█████████████████████████████████████████████████████████████████████████████████| 505/505 [00:16<00:00, 31.54it/s]"
     ]
    },
    {
     "name": "stdout",
     "output_type": "stream",
     "text": [
      "Validation\n"
     ]
    },
    {
     "name": "stderr",
     "output_type": "stream",
     "text": [
      "\n",
      "100%|██████████████████████████████████████████████████████████████████████████████████| 64/64 [00:00<00:00, 159.04it/s]"
     ]
    },
    {
     "name": "stdout",
     "output_type": "stream",
     "text": [
      "\n",
      "\n",
      "Accuracy of class metal: 74.35897435897436\n",
      "Accuracy of class trash: 78.18181818181819\n",
      "Accuracy of class paper: 48.717948717948715\n",
      "Accuracy of class glass: 72.58064516129032\n",
      "Accuracy of class plastic: 35.714285714285715\n",
      "Accuracy of class cardboard: 52.94117647058823\n",
      "\n",
      "\n",
      "Training loss: 0.267, training acc: 91.931\n",
      "Validation loss: 1.171, validation acc: 62.992\n",
      "--------------------------------------------------\n",
      "[INFO]: Epoch 8 of 10\n",
      "Training\n"
     ]
    },
    {
     "name": "stderr",
     "output_type": "stream",
     "text": [
      "\n",
      "100%|█████████████████████████████████████████████████████████████████████████████████| 505/505 [00:15<00:00, 31.60it/s]"
     ]
    },
    {
     "name": "stdout",
     "output_type": "stream",
     "text": [
      "Validation\n"
     ]
    },
    {
     "name": "stderr",
     "output_type": "stream",
     "text": [
      "\n",
      "100%|██████████████████████████████████████████████████████████████████████████████████| 64/64 [00:00<00:00, 159.36it/s]"
     ]
    },
    {
     "name": "stdout",
     "output_type": "stream",
     "text": [
      "\n",
      "\n",
      "Accuracy of class metal: 69.23076923076923\n",
      "Accuracy of class trash: 67.27272727272727\n",
      "Accuracy of class paper: 53.84615384615385\n",
      "Accuracy of class glass: 85.48387096774194\n",
      "Accuracy of class plastic: 80.95238095238095\n",
      "Accuracy of class cardboard: 52.94117647058823\n",
      "\n",
      "\n",
      "Training loss: 0.191, training acc: 93.663\n",
      "Validation loss: 1.075, validation acc: 71.260\n",
      "--------------------------------------------------\n",
      "[INFO]: Epoch 9 of 10\n",
      "Training\n"
     ]
    },
    {
     "name": "stderr",
     "output_type": "stream",
     "text": [
      "\n",
      "100%|█████████████████████████████████████████████████████████████████████████████████| 505/505 [00:16<00:00, 31.53it/s]"
     ]
    },
    {
     "name": "stdout",
     "output_type": "stream",
     "text": [
      "Validation\n"
     ]
    },
    {
     "name": "stderr",
     "output_type": "stream",
     "text": [
      "\n",
      "100%|██████████████████████████████████████████████████████████████████████████████████| 64/64 [00:00<00:00, 155.45it/s]"
     ]
    },
    {
     "name": "stdout",
     "output_type": "stream",
     "text": [
      "\n",
      "\n",
      "Accuracy of class metal: 84.61538461538461\n",
      "Accuracy of class trash: 76.36363636363636\n",
      "Accuracy of class paper: 58.97435897435897\n",
      "Accuracy of class glass: 85.48387096774194\n",
      "Accuracy of class plastic: 47.61904761904762\n",
      "Accuracy of class cardboard: 41.1764705882353\n",
      "\n",
      "\n",
      "Training loss: 0.101, training acc: 96.980\n",
      "Validation loss: 1.327, validation acc: 70.079\n",
      "--------------------------------------------------\n",
      "[INFO]: Epoch 10 of 10\n",
      "Training\n"
     ]
    },
    {
     "name": "stderr",
     "output_type": "stream",
     "text": [
      "\n",
      "100%|█████████████████████████████████████████████████████████████████████████████████| 505/505 [00:16<00:00, 31.52it/s]"
     ]
    },
    {
     "name": "stdout",
     "output_type": "stream",
     "text": [
      "Validation\n"
     ]
    },
    {
     "name": "stderr",
     "output_type": "stream",
     "text": [
      "\n",
      "100%|██████████████████████████████████████████████████████████████████████████████████| 64/64 [00:00<00:00, 159.12it/s]\n"
     ]
    },
    {
     "name": "stdout",
     "output_type": "stream",
     "text": [
      "\n",
      "\n",
      "Accuracy of class metal: 82.05128205128206\n",
      "Accuracy of class trash: 61.81818181818182\n",
      "Accuracy of class paper: 46.15384615384615\n",
      "Accuracy of class glass: 77.41935483870968\n",
      "Accuracy of class plastic: 80.95238095238095\n",
      "Accuracy of class cardboard: 58.8235294117647\n",
      "\n",
      "\n",
      "Training loss: 0.069, training acc: 97.970\n",
      "Validation loss: 1.303, validation acc: 69.291\n",
      "--------------------------------------------------\n"
     ]
    },
    {
     "data": {
      "image/png": "[encoded data removed]",
      "text/plain": [
       "<Figure size 720x504 with 1 Axes>"
      ]
     },
     "metadata": {
      "needs_background": "light"
     },
     "output_type": "display_data"
    },
    {
     "data": {
      "image/png": "[encoded data removed]",
      "text/plain": [
       "<Figure size 720x504 with 1 Axes>"
      ]
     },
     "metadata": {
      "needs_background": "light"
     },
     "output_type": "display_data"
    },
    {
     "name": "stdout",
     "output_type": "stream",
     "text": [
      "TRAINING COMPLETE\n"
     ]
    }
   ],
   "source": [
    "training_loop(impnet, criterion, optimizer, 10)"
   ]
  },
  {
   "cell_type": "code",
   "execution_count": 18,
   "id": "62869b78",
   "metadata": {},
   "outputs": [],
   "source": [
    "PATH = './garbage_impnet.pth'\n",
    "torch.save(impnet.state_dict(), PATH)"
   ]
  },
  {
   "cell_type": "code",
   "execution_count": 19,
   "id": "85870f02",
   "metadata": {},
   "outputs": [
    {
     "data": {
      "text/plain": [
       "<All keys matched successfully>"
      ]
     },
     "execution_count": 19,
     "metadata": {},
     "output_type": "execute_result"
    }
   ],
   "source": [
    "impnet = ImpNet()\n",
    "impnet.load_state_dict(torch.load(PATH))"
   ]
  },
  {
   "cell_type": "code",
   "execution_count": 20,
   "id": "fa686585",
   "metadata": {},
   "outputs": [
    {
     "name": "stdout",
     "output_type": "stream",
     "text": [
      "Accuracy of the network on the test images: 67 %\n",
      "F1-score of the network on the test images: 0.6728997586605809\n"
     ]
    }
   ],
   "source": [
    "impnet.cuda()\n",
    "test(impnet)"
   ]
  },
  {
   "cell_type": "code",
   "execution_count": 21,
   "id": "485cd376",
   "metadata": {},
   "outputs": [
    {
     "name": "stdout",
     "output_type": "stream",
     "text": [
      "Accuracy for class: metal is 84.2 %\n",
      "Accuracy for class: trash is 60.0 %\n",
      "Accuracy for class: paper is 53.2 %\n",
      "Accuracy for class: glass is 80.0 %\n",
      "Accuracy for class: plastic is 70.2 %\n",
      "Accuracy for class: cardboard is 43.8 %\n"
     ]
    }
   ],
   "source": [
    "impnet.cuda()\n",
    "class_accuracy(impnet)"
   ]
  },
  {
   "cell_type": "code",
   "execution_count": 22,
   "id": "e8e3027e",
   "metadata": {},
   "outputs": [
    {
     "data": {
      "image/png": "[encoded data removed]",
      "text/plain": [
       "<Figure size 432x288 with 1 Axes>"
      ]
     },
     "metadata": {
      "needs_background": "light"
     },
     "output_type": "display_data"
    }
   ],
   "source": [
    "explore(impnet, 5)"
   ]
  },
  {
   "cell_type": "code",
   "execution_count": null,
   "id": "a466a392",
   "metadata": {},
   "outputs": [],
   "source": [
    "del ImpNet\n",
    "del impnet"
   ]
  },
  {
   "cell_type": "markdown",
   "id": "68337fa5",
   "metadata": {},
   "source": [
    "Observations\n",
    "1. We get a an overall accuracy of 67%. However, cardboard classification accuracy is still the lowest.\n",
    "2. Looking at the results of the explore function, cardboard was most commonly misclassified as glass.\n",
    "3. Looking at the training loss and validation loss curves, there is evidence of overfitting."
   ]
  },
  {
   "cell_type": "markdown",
   "id": "6fb81982",
   "metadata": {},
   "source": [
    "## Let's try dropout regularization with this model"
   ]
  },
  {
   "cell_type": "markdown",
   "id": "f8bd2155",
   "metadata": {},
   "source": [
    "In class we learnt that, dropout regularization is a technique commonly used in neural networks to improve accuracy and prevent overfitting. It works by randomly dropping out (setting to zero) a certain percentage of the nodes or connections in a neural network during training."
   ]
  },
  {
   "cell_type": "markdown",
   "id": "c2f77254",
   "metadata": {},
   "source": [
    "We use the guidance of the papers mentioned in this link to set dropout values. https://stackoverflow.com/questions/47892505/dropout-rate-guidance-for-hidden-layers-in-a-convolution-neural-network \\\n"
   ]
  },
  {
   "cell_type": "code",
   "execution_count": 33,
   "id": "550d3a50",
   "metadata": {},
   "outputs": [
    {
     "data": {
      "text/plain": [
       "DropNet(\n",
       "  (conv1): Conv2d(3, 64, kernel_size=(3, 3), stride=(1, 1), padding=(1, 1))\n",
       "  (pool): MaxPool2d(kernel_size=2, stride=2, padding=0, dilation=1, ceil_mode=False)\n",
       "  (conv2): Conv2d(64, 128, kernel_size=(3, 3), stride=(1, 1), padding=(1, 1))\n",
       "  (fc1): Linear(in_features=401408, out_features=1296, bias=True)\n",
       "  (dropout1): Dropout(p=0.5, inplace=False)\n",
       "  (fc2): Linear(in_features=1296, out_features=216, bias=True)\n",
       "  (dropout2): Dropout(p=0.5, inplace=False)\n",
       "  (fc3): Linear(in_features=216, out_features=6, bias=True)\n",
       ")"
      ]
     },
     "execution_count": 33,
     "metadata": {},
     "output_type": "execute_result"
    }
   ],
   "source": [
    "import torch.nn as nn\n",
    "import torch.nn.functional as F\n",
    "\n",
    "class DropNet(nn.Module):\n",
    "    def __init__(self):\n",
    "        super().__init__()\n",
    "        self.conv1 = nn.Conv2d(3, 64, kernel_size=3, padding=1)\n",
    "        self.pool = nn.MaxPool2d(kernel_size=2, stride=2)\n",
    "        self.conv2 = nn.Conv2d(64, 128, kernel_size=3, padding=1)\n",
    "        self.fc1 = nn.Linear(128 * 56 * 56, 1296)\n",
    "        self.dropout1 = nn.Dropout(0.5)\n",
    "        self.fc2 = nn.Linear(1296, 216)\n",
    "        self.dropout2 = nn.Dropout(0.5)\n",
    "        self.fc3 = nn.Linear(216, 6)\n",
    "\n",
    "    def forward(self, x):\n",
    "        x = self.pool(F.leaky_relu(self.conv1(x), inplace=True))\n",
    "        x = self.pool(F.leaky_relu(self.conv2(x), inplace=True))\n",
    "        x = torch.flatten(x, 1) \n",
    "        x = F.relu(self.fc1(x))\n",
    "        x = self.dropout1(x)\n",
    "        x = F.relu(self.fc2(x))\n",
    "        x = self.dropout2(x)\n",
    "        x = self.fc3(x)\n",
    "        return x\n",
    "    \n",
    "    def epoch_end(self, epoch, result):\n",
    "        print(\"Epoch {}: train_loss: {:.4f}, val_loss: {:.4f}, val_acc: {:.4f}\".format(\n",
    "            epoch+1, result['train_loss'], result['val_loss'], result['val_acc']))\n",
    "\n",
    "device = torch.device('cuda:0' if torch.cuda.is_available() else 'cpu')\n",
    "dropnet = DropNet()\n",
    "dropnet.to(device)"
   ]
  },
  {
   "cell_type": "code",
   "execution_count": 34,
   "id": "9270803f",
   "metadata": {},
   "outputs": [],
   "source": [
    "import torch.optim as optim\n",
    "\n",
    "criterion = nn.CrossEntropyLoss()\n",
    "optimizer = optim.SGD(dropnet.parameters(), lr=0.001, momentum=0.9)"
   ]
  },
  {
   "cell_type": "code",
   "execution_count": 35,
   "id": "7c089c02",
   "metadata": {
    "scrolled": true
   },
   "outputs": [
    {
     "name": "stdout",
     "output_type": "stream",
     "text": [
      "[INFO]: Epoch 1 of 10\n",
      "Training\n"
     ]
    },
    {
     "name": "stderr",
     "output_type": "stream",
     "text": [
      "100%|█████████████████████████████████████████████████████████████████████████████████| 505/505 [00:16<00:00, 31.56it/s]"
     ]
    },
    {
     "name": "stdout",
     "output_type": "stream",
     "text": [
      "Validation\n"
     ]
    },
    {
     "name": "stderr",
     "output_type": "stream",
     "text": [
      "\n",
      "100%|██████████████████████████████████████████████████████████████████████████████████| 64/64 [00:00<00:00, 157.94it/s]\n"
     ]
    },
    {
     "name": "stdout",
     "output_type": "stream",
     "text": [
      "\n",
      "\n",
      "Accuracy of class metal: 61.53846153846154\n",
      "Accuracy of class trash: 29.09090909090909\n",
      "Accuracy of class paper: 23.076923076923077\n",
      "Accuracy of class glass: 56.45161290322581\n",
      "Accuracy of class plastic: 80.95238095238095\n",
      "Accuracy of class cardboard: 0.0\n",
      "\n",
      "\n",
      "Training loss: 1.568, training acc: 36.287\n",
      "Validation loss: 1.396, validation acc: 46.457\n",
      "--------------------------------------------------\n",
      "[INFO]: Epoch 2 of 10\n",
      "Training\n"
     ]
    },
    {
     "name": "stderr",
     "output_type": "stream",
     "text": [
      "100%|█████████████████████████████████████████████████████████████████████████████████| 505/505 [00:16<00:00, 31.51it/s]"
     ]
    },
    {
     "name": "stdout",
     "output_type": "stream",
     "text": [
      "Validation\n"
     ]
    },
    {
     "name": "stderr",
     "output_type": "stream",
     "text": [
      "\n",
      "100%|██████████████████████████████████████████████████████████████████████████████████| 64/64 [00:00<00:00, 154.45it/s]"
     ]
    },
    {
     "name": "stdout",
     "output_type": "stream",
     "text": [
      "\n",
      "\n",
      "Accuracy of class metal: 66.66666666666667\n",
      "Accuracy of class trash: 49.09090909090909\n",
      "Accuracy of class paper: 25.641025641025642\n",
      "Accuracy of class glass: 95.16129032258064\n",
      "Accuracy of class plastic: 69.04761904761905\n",
      "Accuracy of class cardboard: 0.0\n",
      "\n",
      "\n",
      "Training loss: 1.322, training acc: 48.267\n",
      "Validation loss: 1.202, validation acc: 59.449\n",
      "--------------------------------------------------\n",
      "[INFO]: Epoch 3 of 10\n",
      "Training\n"
     ]
    },
    {
     "name": "stderr",
     "output_type": "stream",
     "text": [
      "\n",
      "100%|█████████████████████████████████████████████████████████████████████████████████| 505/505 [00:16<00:00, 31.54it/s]"
     ]
    },
    {
     "name": "stdout",
     "output_type": "stream",
     "text": [
      "Validation\n"
     ]
    },
    {
     "name": "stderr",
     "output_type": "stream",
     "text": [
      "\n",
      "100%|██████████████████████████████████████████████████████████████████████████████████| 64/64 [00:00<00:00, 158.11it/s]"
     ]
    },
    {
     "name": "stdout",
     "output_type": "stream",
     "text": [
      "\n",
      "\n",
      "Accuracy of class metal: 58.97435897435897\n",
      "Accuracy of class trash: 30.90909090909091\n",
      "Accuracy of class paper: 71.7948717948718\n",
      "Accuracy of class glass: 87.09677419354838\n",
      "Accuracy of class plastic: 54.76190476190476\n",
      "Accuracy of class cardboard: 17.647058823529413\n",
      "\n",
      "\n",
      "Training loss: 1.139, training acc: 58.267\n",
      "Validation loss: 1.139, validation acc: 58.268\n",
      "--------------------------------------------------\n",
      "[INFO]: Epoch 4 of 10\n",
      "Training\n"
     ]
    },
    {
     "name": "stderr",
     "output_type": "stream",
     "text": [
      "\n",
      "100%|█████████████████████████████████████████████████████████████████████████████████| 505/505 [00:15<00:00, 31.60it/s]"
     ]
    },
    {
     "name": "stdout",
     "output_type": "stream",
     "text": [
      "Validation\n"
     ]
    },
    {
     "name": "stderr",
     "output_type": "stream",
     "text": [
      "\n",
      "100%|██████████████████████████████████████████████████████████████████████████████████| 64/64 [00:00<00:00, 157.78it/s]\n"
     ]
    },
    {
     "name": "stdout",
     "output_type": "stream",
     "text": [
      "\n",
      "\n",
      "Accuracy of class metal: 82.05128205128206\n",
      "Accuracy of class trash: 72.72727272727273\n",
      "Accuracy of class paper: 53.84615384615385\n",
      "Accuracy of class glass: 83.87096774193549\n",
      "Accuracy of class plastic: 47.61904761904762\n",
      "Accuracy of class cardboard: 11.764705882352942\n",
      "\n",
      "\n",
      "Training loss: 0.989, training acc: 64.505\n",
      "Validation loss: 0.930, validation acc: 65.748\n",
      "--------------------------------------------------\n",
      "[INFO]: Epoch 5 of 10\n",
      "Training\n"
     ]
    },
    {
     "name": "stderr",
     "output_type": "stream",
     "text": [
      "100%|█████████████████████████████████████████████████████████████████████████████████| 505/505 [00:16<00:00, 31.53it/s]"
     ]
    },
    {
     "name": "stdout",
     "output_type": "stream",
     "text": [
      "Validation\n"
     ]
    },
    {
     "name": "stderr",
     "output_type": "stream",
     "text": [
      "\n",
      "100%|██████████████████████████████████████████████████████████████████████████████████| 64/64 [00:00<00:00, 156.69it/s]"
     ]
    },
    {
     "name": "stdout",
     "output_type": "stream",
     "text": [
      "\n",
      "\n",
      "Accuracy of class metal: 71.7948717948718\n",
      "Accuracy of class trash: 70.9090909090909\n",
      "Accuracy of class paper: 58.97435897435897\n",
      "Accuracy of class glass: 91.93548387096774\n",
      "Accuracy of class plastic: 59.523809523809526\n",
      "Accuracy of class cardboard: 64.70588235294117\n",
      "\n",
      "\n",
      "Training loss: 0.825, training acc: 70.248\n",
      "Validation loss: 0.829, validation acc: 72.047\n",
      "--------------------------------------------------\n",
      "[INFO]: Epoch 6 of 10\n",
      "Training\n"
     ]
    },
    {
     "name": "stderr",
     "output_type": "stream",
     "text": [
      "\n",
      "100%|█████████████████████████████████████████████████████████████████████████████████| 505/505 [00:16<00:00, 31.50it/s]"
     ]
    },
    {
     "name": "stdout",
     "output_type": "stream",
     "text": [
      "Validation\n"
     ]
    },
    {
     "name": "stderr",
     "output_type": "stream",
     "text": [
      "\n",
      "100%|██████████████████████████████████████████████████████████████████████████████████| 64/64 [00:00<00:00, 158.67it/s]\n"
     ]
    },
    {
     "name": "stdout",
     "output_type": "stream",
     "text": [
      "\n",
      "\n",
      "Accuracy of class metal: 64.1025641025641\n",
      "Accuracy of class trash: 67.27272727272727\n",
      "Accuracy of class paper: 66.66666666666667\n",
      "Accuracy of class glass: 88.70967741935483\n",
      "Accuracy of class plastic: 69.04761904761905\n",
      "Accuracy of class cardboard: 41.1764705882353\n",
      "\n",
      "\n",
      "Training loss: 0.659, training acc: 76.782\n",
      "Validation loss: 0.907, validation acc: 70.472\n",
      "--------------------------------------------------\n",
      "[INFO]: Epoch 7 of 10\n",
      "Training\n"
     ]
    },
    {
     "name": "stderr",
     "output_type": "stream",
     "text": [
      "100%|█████████████████████████████████████████████████████████████████████████████████| 505/505 [00:16<00:00, 31.40it/s]"
     ]
    },
    {
     "name": "stdout",
     "output_type": "stream",
     "text": [
      "Validation\n"
     ]
    },
    {
     "name": "stderr",
     "output_type": "stream",
     "text": [
      "\n",
      "100%|██████████████████████████████████████████████████████████████████████████████████| 64/64 [00:00<00:00, 160.89it/s]"
     ]
    },
    {
     "name": "stdout",
     "output_type": "stream",
     "text": [
      "\n",
      "\n",
      "Accuracy of class metal: 82.05128205128206\n",
      "Accuracy of class trash: 72.72727272727273\n",
      "Accuracy of class paper: 71.7948717948718\n",
      "Accuracy of class glass: 82.25806451612904\n",
      "Accuracy of class plastic: 66.66666666666667\n",
      "Accuracy of class cardboard: 35.294117647058826\n",
      "\n",
      "\n",
      "Training loss: 0.462, training acc: 83.267\n",
      "Validation loss: 0.997, validation acc: 72.835\n",
      "--------------------------------------------------\n",
      "[INFO]: Epoch 8 of 10\n",
      "Training\n"
     ]
    },
    {
     "name": "stderr",
     "output_type": "stream",
     "text": [
      "\n",
      "100%|█████████████████████████████████████████████████████████████████████████████████| 505/505 [00:16<00:00, 31.45it/s]"
     ]
    },
    {
     "name": "stdout",
     "output_type": "stream",
     "text": [
      "Validation\n"
     ]
    },
    {
     "name": "stderr",
     "output_type": "stream",
     "text": [
      "\n",
      "100%|██████████████████████████████████████████████████████████████████████████████████| 64/64 [00:00<00:00, 157.26it/s]\n"
     ]
    },
    {
     "name": "stdout",
     "output_type": "stream",
     "text": [
      "\n",
      "\n",
      "Accuracy of class metal: 84.61538461538461\n",
      "Accuracy of class trash: 65.45454545454545\n",
      "Accuracy of class paper: 46.15384615384615\n",
      "Accuracy of class glass: 83.87096774193549\n",
      "Accuracy of class plastic: 61.904761904761905\n",
      "Accuracy of class cardboard: 47.05882352941177\n",
      "\n",
      "\n",
      "Training loss: 0.330, training acc: 90.050\n",
      "Validation loss: 0.981, validation acc: 68.110\n",
      "--------------------------------------------------\n",
      "[INFO]: Epoch 9 of 10\n",
      "Training\n"
     ]
    },
    {
     "name": "stderr",
     "output_type": "stream",
     "text": [
      "100%|█████████████████████████████████████████████████████████████████████████████████| 505/505 [00:16<00:00, 31.43it/s]"
     ]
    },
    {
     "name": "stdout",
     "output_type": "stream",
     "text": [
      "Validation\n"
     ]
    },
    {
     "name": "stderr",
     "output_type": "stream",
     "text": [
      "\n",
      "100%|██████████████████████████████████████████████████████████████████████████████████| 64/64 [00:00<00:00, 156.14it/s]"
     ]
    },
    {
     "name": "stdout",
     "output_type": "stream",
     "text": [
      "\n",
      "\n",
      "Accuracy of class metal: 61.53846153846154\n",
      "Accuracy of class trash: 65.45454545454545\n",
      "Accuracy of class paper: 56.41025641025641\n",
      "Accuracy of class glass: 87.09677419354838\n",
      "Accuracy of class plastic: 52.38095238095238\n",
      "Accuracy of class cardboard: 52.94117647058823\n",
      "\n",
      "\n",
      "Training loss: 0.251, training acc: 92.376\n",
      "Validation loss: 1.293, validation acc: 65.748\n",
      "--------------------------------------------------\n",
      "[INFO]: Epoch 10 of 10\n",
      "Training\n"
     ]
    },
    {
     "name": "stderr",
     "output_type": "stream",
     "text": [
      "\n",
      "100%|█████████████████████████████████████████████████████████████████████████████████| 505/505 [00:16<00:00, 31.52it/s]"
     ]
    },
    {
     "name": "stdout",
     "output_type": "stream",
     "text": [
      "Validation\n"
     ]
    },
    {
     "name": "stderr",
     "output_type": "stream",
     "text": [
      "\n",
      "100%|██████████████████████████████████████████████████████████████████████████████████| 64/64 [00:00<00:00, 158.32it/s]\n"
     ]
    },
    {
     "name": "stdout",
     "output_type": "stream",
     "text": [
      "\n",
      "\n",
      "Accuracy of class metal: 64.1025641025641\n",
      "Accuracy of class trash: 69.0909090909091\n",
      "Accuracy of class paper: 61.53846153846154\n",
      "Accuracy of class glass: 79.03225806451613\n",
      "Accuracy of class plastic: 64.28571428571429\n",
      "Accuracy of class cardboard: 35.294117647058826\n",
      "\n",
      "\n",
      "Training loss: 0.182, training acc: 94.554\n",
      "Validation loss: 1.191, validation acc: 66.535\n",
      "--------------------------------------------------\n"
     ]
    },
    {
     "data": {
      "image/png": "[encoded data removed]",
      "text/plain": [
       "<Figure size 720x504 with 1 Axes>"
      ]
     },
     "metadata": {
      "needs_background": "light"
     },
     "output_type": "display_data"
    },
    {
     "data": {
      "image/png": "[encoded data removed]",
      "text/plain": [
       "<Figure size 720x504 with 1 Axes>"
      ]
     },
     "metadata": {
      "needs_background": "light"
     },
     "output_type": "display_data"
    },
    {
     "name": "stdout",
     "output_type": "stream",
     "text": [
      "TRAINING COMPLETE\n"
     ]
    }
   ],
   "source": [
    "training_loop(dropnet, criterion, optimizer, 10)"
   ]
  },
  {
   "cell_type": "code",
   "execution_count": 36,
   "id": "07481340",
   "metadata": {},
   "outputs": [],
   "source": [
    "PATH = './garbage_dropnet.pth'\n",
    "torch.save(dropnet.state_dict(), PATH)"
   ]
  },
  {
   "cell_type": "code",
   "execution_count": 37,
   "id": "bedea851",
   "metadata": {},
   "outputs": [
    {
     "data": {
      "text/plain": [
       "<All keys matched successfully>"
      ]
     },
     "execution_count": 37,
     "metadata": {},
     "output_type": "execute_result"
    }
   ],
   "source": [
    "dropnet = DropNet()\n",
    "dropnet.load_state_dict(torch.load(PATH))"
   ]
  },
  {
   "cell_type": "code",
   "execution_count": 38,
   "id": "29971a52",
   "metadata": {},
   "outputs": [
    {
     "name": "stdout",
     "output_type": "stream",
     "text": [
      "Accuracy of the network on the test images: 63 %\n",
      "F1-score of the network on the test images: 0.6362562291080066\n"
     ]
    }
   ],
   "source": [
    "dropnet.cuda()\n",
    "test(dropnet)"
   ]
  },
  {
   "cell_type": "code",
   "execution_count": 39,
   "id": "70413bc9",
   "metadata": {},
   "outputs": [
    {
     "name": "stdout",
     "output_type": "stream",
     "text": [
      "Accuracy for class: metal is 65.8 %\n",
      "Accuracy for class: trash is 60.0 %\n",
      "Accuracy for class: paper is 59.6 %\n",
      "Accuracy for class: glass is 72.7 %\n",
      "Accuracy for class: plastic is 66.0 %\n",
      "Accuracy for class: cardboard is 25.0 %\n"
     ]
    }
   ],
   "source": [
    "dropnet.cuda()\n",
    "class_accuracy(dropnet)"
   ]
  },
  {
   "cell_type": "code",
   "execution_count": 40,
   "id": "12209d9c",
   "metadata": {},
   "outputs": [
    {
     "data": {
      "image/png": "[encoded data removed]",
      "text/plain": [
       "<Figure size 432x288 with 1 Axes>"
      ]
     },
     "metadata": {
      "needs_background": "light"
     },
     "output_type": "display_data"
    }
   ],
   "source": [
    "explore(dropnet, 5)"
   ]
  },
  {
   "cell_type": "code",
   "execution_count": 41,
   "id": "8e7f8317",
   "metadata": {},
   "outputs": [],
   "source": [
    "del dropnet\n",
    "del DropNet"
   ]
  },
  {
   "cell_type": "markdown",
   "id": "a0882b02",
   "metadata": {},
   "source": [
    "Observations\n",
    "1. We get a an overall accuracy of 63%. \n",
    "2. Cardboard classification accuracy is low and is almost to comparable to chance.\n",
    "3. Looking at the results of the explore function, cardboard was most commonly misclassified as paper.\n",
    "3. Looking at the training loss and validation loss curves, there is evidence of overfitting.\n",
    "\n",
    "Conclusions\n",
    "1. The dropout value of 0.5 on the linear layers was far too aggressive - this is supplemented by the fact that the already low cardboard accuracy dropped even further - the dropout hampers the learning of such a simple model."
   ]
  },
  {
   "cell_type": "markdown",
   "id": "055bf646",
   "metadata": {},
   "source": [
    "## Let's try to use dropout on the convolutional layers"
   ]
  },
  {
   "cell_type": "markdown",
   "id": "dce3fe4e",
   "metadata": {},
   "source": [
    "For experimental purpose, we will build on the previous model to see how accuracy drops further on adding dropout on convolutional layer. The guidance for implementation comes from: https://stats.stackexchange.com/questions/147850/are-pooling-layers-added-before-or-after-dropout-layers#:~:text=Pooling%20usually%20operates%20separately%20on,operations%20like%20maxpooling%20or%20averaging."
   ]
  },
  {
   "cell_type": "code",
   "execution_count": 42,
   "id": "02d1dd51",
   "metadata": {},
   "outputs": [
    {
     "data": {
      "text/plain": [
       "CDropNet(\n",
       "  (conv1): Conv2d(3, 64, kernel_size=(3, 3), stride=(1, 1), padding=(1, 1))\n",
       "  (dropout1): Dropout(p=0.1, inplace=False)\n",
       "  (pool): MaxPool2d(kernel_size=2, stride=2, padding=0, dilation=1, ceil_mode=False)\n",
       "  (conv2): Conv2d(64, 128, kernel_size=(3, 3), stride=(1, 1), padding=(1, 1))\n",
       "  (dropout2): Dropout(p=0.1, inplace=False)\n",
       "  (fc1): Linear(in_features=401408, out_features=1296, bias=True)\n",
       "  (fc2): Linear(in_features=1296, out_features=216, bias=True)\n",
       "  (fc3): Linear(in_features=216, out_features=6, bias=True)\n",
       ")"
      ]
     },
     "execution_count": 42,
     "metadata": {},
     "output_type": "execute_result"
    }
   ],
   "source": [
    "import torch.nn as nn\n",
    "import torch.nn.functional as F\n",
    "\n",
    "class CDropNet(nn.Module):\n",
    "    def __init__(self):\n",
    "        super().__init__()\n",
    "        self.conv1 = nn.Conv2d(3, 64, kernel_size=3, padding=1)\n",
    "        self.dropout1 = nn.Dropout(0.1)\n",
    "        self.pool = nn.MaxPool2d(kernel_size=2, stride=2)\n",
    "        self.conv2 = nn.Conv2d(64, 128, kernel_size=3, padding=1)\n",
    "        self.dropout2 = nn.Dropout(0.1)\n",
    "        self.fc1 = nn.Linear(128 * 56 * 56, 1296)\n",
    "        self.fc2 = nn.Linear(1296, 216)\n",
    "        self.fc3 = nn.Linear(216, 6)\n",
    "\n",
    "    def forward(self, x):\n",
    "        x = self.pool(F.leaky_relu(self.conv1(x)))\n",
    "        x = self.dropout1(x)\n",
    "        x = self.pool(F.leaky_relu(self.conv2(x)))\n",
    "        x = self.dropout2(x)\n",
    "        x = torch.flatten(x, 1) # flatten all dimensions except batch\n",
    "        x = F.relu(self.fc1(x), inplace=True)\n",
    "        x = self.dropout1(x)\n",
    "        x = F.relu(self.fc2(x), inplace=True)\n",
    "        x = self.dropout2(x)\n",
    "        x = self.fc3(x)\n",
    "        return x\n",
    "    \n",
    "    def epoch_end(self, epoch, result):\n",
    "        print(\"Epoch {}: train_loss: {:.4f}, val_loss: {:.4f}, val_acc: {:.4f}\".format(\n",
    "            epoch+1, result['train_loss'], result['val_loss'], result['val_acc']))\n",
    "\n",
    "device = torch.device('cuda:0' if torch.cuda.is_available() else 'cpu')\n",
    "cdropnet = CDropNet()\n",
    "cdropnet.to(device)"
   ]
  },
  {
   "cell_type": "code",
   "execution_count": 43,
   "id": "be7bb0db",
   "metadata": {},
   "outputs": [],
   "source": [
    "import torch.optim as optim\n",
    "\n",
    "criterion = nn.CrossEntropyLoss()\n",
    "optimizer = optim.SGD(cdropnet.parameters(), lr=0.001, momentum=0.9)"
   ]
  },
  {
   "cell_type": "code",
   "execution_count": 44,
   "id": "602bcbda",
   "metadata": {
    "scrolled": true
   },
   "outputs": [
    {
     "name": "stdout",
     "output_type": "stream",
     "text": [
      "[INFO]: Epoch 1 of 10\n",
      "Training\n"
     ]
    },
    {
     "name": "stderr",
     "output_type": "stream",
     "text": [
      "100%|█████████████████████████████████████████████████████████████████████████████████| 505/505 [00:16<00:00, 31.40it/s]"
     ]
    },
    {
     "name": "stdout",
     "output_type": "stream",
     "text": [
      "Validation\n"
     ]
    },
    {
     "name": "stderr",
     "output_type": "stream",
     "text": [
      "\n",
      "100%|██████████████████████████████████████████████████████████████████████████████████| 64/64 [00:00<00:00, 156.76it/s]"
     ]
    },
    {
     "name": "stdout",
     "output_type": "stream",
     "text": [
      "\n",
      "\n",
      "Accuracy of class metal: 64.1025641025641\n",
      "Accuracy of class trash: 1.8181818181818181\n",
      "Accuracy of class paper: 43.58974358974359\n",
      "Accuracy of class glass: 70.96774193548387\n",
      "Accuracy of class plastic: 76.19047619047619\n",
      "Accuracy of class cardboard: 0.0\n",
      "\n",
      "\n",
      "Training loss: 1.524, training acc: 36.584\n",
      "Validation loss: 1.301, validation acc: 46.850\n",
      "--------------------------------------------------\n",
      "[INFO]: Epoch 2 of 10\n",
      "Training\n"
     ]
    },
    {
     "name": "stderr",
     "output_type": "stream",
     "text": [
      "\n",
      "100%|█████████████████████████████████████████████████████████████████████████████████| 505/505 [00:16<00:00, 31.32it/s]"
     ]
    },
    {
     "name": "stdout",
     "output_type": "stream",
     "text": [
      "Validation\n"
     ]
    },
    {
     "name": "stderr",
     "output_type": "stream",
     "text": [
      "\n",
      "100%|██████████████████████████████████████████████████████████████████████████████████| 64/64 [00:00<00:00, 153.89it/s]"
     ]
    },
    {
     "name": "stdout",
     "output_type": "stream",
     "text": [
      "\n",
      "\n",
      "Accuracy of class metal: 74.35897435897436\n",
      "Accuracy of class trash: 56.36363636363637\n",
      "Accuracy of class paper: 48.717948717948715\n",
      "Accuracy of class glass: 70.96774193548387\n",
      "Accuracy of class plastic: 69.04761904761905\n",
      "Accuracy of class cardboard: 0.0\n",
      "\n",
      "\n",
      "Training loss: 1.205, training acc: 55.099\n",
      "Validation loss: 1.129, validation acc: 59.843\n",
      "--------------------------------------------------\n",
      "[INFO]: Epoch 3 of 10\n",
      "Training\n"
     ]
    },
    {
     "name": "stderr",
     "output_type": "stream",
     "text": [
      "\n",
      "100%|█████████████████████████████████████████████████████████████████████████████████| 505/505 [00:16<00:00, 31.34it/s]"
     ]
    },
    {
     "name": "stdout",
     "output_type": "stream",
     "text": [
      "Validation\n"
     ]
    },
    {
     "name": "stderr",
     "output_type": "stream",
     "text": [
      "\n",
      "100%|██████████████████████████████████████████████████████████████████████████████████| 64/64 [00:00<00:00, 157.88it/s]"
     ]
    },
    {
     "name": "stdout",
     "output_type": "stream",
     "text": [
      "\n",
      "\n",
      "Accuracy of class metal: 61.53846153846154\n",
      "Accuracy of class trash: 56.36363636363637\n",
      "Accuracy of class paper: 56.41025641025641\n",
      "Accuracy of class glass: 87.09677419354838\n",
      "Accuracy of class plastic: 69.04761904761905\n",
      "Accuracy of class cardboard: 17.647058823529413\n",
      "\n",
      "\n",
      "Training loss: 1.049, training acc: 61.386\n",
      "Validation loss: 0.953, validation acc: 64.173\n",
      "--------------------------------------------------\n",
      "[INFO]: Epoch 4 of 10\n",
      "Training\n"
     ]
    },
    {
     "name": "stderr",
     "output_type": "stream",
     "text": [
      "\n",
      "100%|█████████████████████████████████████████████████████████████████████████████████| 505/505 [00:16<00:00, 31.41it/s]"
     ]
    },
    {
     "name": "stdout",
     "output_type": "stream",
     "text": [
      "Validation\n"
     ]
    },
    {
     "name": "stderr",
     "output_type": "stream",
     "text": [
      "\n",
      "100%|██████████████████████████████████████████████████████████████████████████████████| 64/64 [00:00<00:00, 156.33it/s]"
     ]
    },
    {
     "name": "stdout",
     "output_type": "stream",
     "text": [
      "\n",
      "\n",
      "Accuracy of class metal: 69.23076923076923\n",
      "Accuracy of class trash: 50.90909090909091\n",
      "Accuracy of class paper: 79.48717948717949\n",
      "Accuracy of class glass: 91.93548387096774\n",
      "Accuracy of class plastic: 52.38095238095238\n",
      "Accuracy of class cardboard: 29.41176470588235\n",
      "\n",
      "\n",
      "Training loss: 0.883, training acc: 67.723\n",
      "Validation loss: 0.924, validation acc: 66.929\n",
      "--------------------------------------------------\n",
      "[INFO]: Epoch 5 of 10\n",
      "Training\n"
     ]
    },
    {
     "name": "stderr",
     "output_type": "stream",
     "text": [
      "\n",
      "100%|█████████████████████████████████████████████████████████████████████████████████| 505/505 [00:16<00:00, 31.31it/s]"
     ]
    },
    {
     "name": "stdout",
     "output_type": "stream",
     "text": [
      "Validation\n"
     ]
    },
    {
     "name": "stderr",
     "output_type": "stream",
     "text": [
      "\n",
      "100%|██████████████████████████████████████████████████████████████████████████████████| 64/64 [00:00<00:00, 157.41it/s]\n"
     ]
    },
    {
     "name": "stdout",
     "output_type": "stream",
     "text": [
      "\n",
      "\n",
      "Accuracy of class metal: 82.05128205128206\n",
      "Accuracy of class trash: 74.54545454545455\n",
      "Accuracy of class paper: 66.66666666666667\n",
      "Accuracy of class glass: 88.70967741935483\n",
      "Accuracy of class plastic: 45.23809523809524\n",
      "Accuracy of class cardboard: 41.1764705882353\n",
      "\n",
      "\n",
      "Training loss: 0.671, training acc: 75.693\n",
      "Validation loss: 0.898, validation acc: 70.866\n",
      "--------------------------------------------------\n",
      "[INFO]: Epoch 6 of 10\n",
      "Training\n"
     ]
    },
    {
     "name": "stderr",
     "output_type": "stream",
     "text": [
      "100%|█████████████████████████████████████████████████████████████████████████████████| 505/505 [00:16<00:00, 31.32it/s]"
     ]
    },
    {
     "name": "stdout",
     "output_type": "stream",
     "text": [
      "Validation\n"
     ]
    },
    {
     "name": "stderr",
     "output_type": "stream",
     "text": [
      "\n",
      "100%|██████████████████████████████████████████████████████████████████████████████████| 64/64 [00:00<00:00, 157.51it/s]"
     ]
    },
    {
     "name": "stdout",
     "output_type": "stream",
     "text": [
      "\n",
      "\n",
      "Accuracy of class metal: 66.66666666666667\n",
      "Accuracy of class trash: 76.36363636363636\n",
      "Accuracy of class paper: 51.282051282051285\n",
      "Accuracy of class glass: 69.35483870967742\n",
      "Accuracy of class plastic: 71.42857142857143\n",
      "Accuracy of class cardboard: 41.1764705882353\n",
      "\n",
      "\n",
      "Training loss: 0.543, training acc: 80.941\n",
      "Validation loss: 1.106, validation acc: 66.142\n",
      "--------------------------------------------------\n",
      "[INFO]: Epoch 7 of 10\n",
      "Training\n"
     ]
    },
    {
     "name": "stderr",
     "output_type": "stream",
     "text": [
      "\n",
      "100%|█████████████████████████████████████████████████████████████████████████████████| 505/505 [00:16<00:00, 31.29it/s]"
     ]
    },
    {
     "name": "stdout",
     "output_type": "stream",
     "text": [
      "Validation\n"
     ]
    },
    {
     "name": "stderr",
     "output_type": "stream",
     "text": [
      "\n",
      "100%|██████████████████████████████████████████████████████████████████████████████████| 64/64 [00:00<00:00, 158.58it/s]"
     ]
    },
    {
     "name": "stdout",
     "output_type": "stream",
     "text": [
      "\n",
      "\n",
      "Accuracy of class metal: 38.46153846153846\n",
      "Accuracy of class trash: 72.72727272727273\n",
      "Accuracy of class paper: 53.84615384615385\n",
      "Accuracy of class glass: 70.96774193548387\n",
      "Accuracy of class plastic: 66.66666666666667\n",
      "Accuracy of class cardboard: 47.05882352941177\n",
      "\n",
      "\n",
      "Training loss: 0.383, training acc: 86.832\n",
      "Validation loss: 1.145, validation acc: 61.417\n",
      "--------------------------------------------------\n",
      "[INFO]: Epoch 8 of 10\n",
      "Training\n"
     ]
    },
    {
     "name": "stderr",
     "output_type": "stream",
     "text": [
      "\n",
      "100%|█████████████████████████████████████████████████████████████████████████████████| 505/505 [00:16<00:00, 31.33it/s]"
     ]
    },
    {
     "name": "stdout",
     "output_type": "stream",
     "text": [
      "Validation\n"
     ]
    },
    {
     "name": "stderr",
     "output_type": "stream",
     "text": [
      "\n",
      "100%|██████████████████████████████████████████████████████████████████████████████████| 64/64 [00:00<00:00, 157.38it/s]"
     ]
    },
    {
     "name": "stdout",
     "output_type": "stream",
     "text": [
      "\n",
      "\n",
      "Accuracy of class metal: 58.97435897435897\n",
      "Accuracy of class trash: 54.54545454545455\n",
      "Accuracy of class paper: 48.717948717948715\n",
      "Accuracy of class glass: 77.41935483870968\n",
      "Accuracy of class plastic: 73.80952380952381\n",
      "Accuracy of class cardboard: 52.94117647058823\n",
      "\n",
      "\n",
      "Training loss: 0.245, training acc: 92.178\n",
      "Validation loss: 1.265, validation acc: 62.992\n",
      "--------------------------------------------------\n",
      "[INFO]: Epoch 9 of 10\n",
      "Training\n"
     ]
    },
    {
     "name": "stderr",
     "output_type": "stream",
     "text": [
      "\n",
      "100%|█████████████████████████████████████████████████████████████████████████████████| 505/505 [00:16<00:00, 31.34it/s]"
     ]
    },
    {
     "name": "stdout",
     "output_type": "stream",
     "text": [
      "Validation\n"
     ]
    },
    {
     "name": "stderr",
     "output_type": "stream",
     "text": [
      "\n",
      "100%|██████████████████████████████████████████████████████████████████████████████████| 64/64 [00:00<00:00, 158.35it/s]"
     ]
    },
    {
     "name": "stdout",
     "output_type": "stream",
     "text": [
      "\n",
      "\n",
      "Accuracy of class metal: 56.41025641025641\n",
      "Accuracy of class trash: 61.81818181818182\n",
      "Accuracy of class paper: 71.7948717948718\n",
      "Accuracy of class glass: 77.41935483870968\n",
      "Accuracy of class plastic: 64.28571428571429\n",
      "Accuracy of class cardboard: 41.1764705882353\n",
      "\n",
      "\n",
      "Training loss: 0.153, training acc: 95.297\n",
      "Validation loss: 1.248, validation acc: 65.354\n",
      "--------------------------------------------------\n",
      "[INFO]: Epoch 10 of 10\n",
      "Training\n"
     ]
    },
    {
     "name": "stderr",
     "output_type": "stream",
     "text": [
      "\n",
      "100%|█████████████████████████████████████████████████████████████████████████████████| 505/505 [00:16<00:00, 31.37it/s]"
     ]
    },
    {
     "name": "stdout",
     "output_type": "stream",
     "text": [
      "Validation\n"
     ]
    },
    {
     "name": "stderr",
     "output_type": "stream",
     "text": [
      "\n",
      "100%|██████████████████████████████████████████████████████████████████████████████████| 64/64 [00:00<00:00, 157.34it/s]"
     ]
    },
    {
     "name": "stdout",
     "output_type": "stream",
     "text": [
      "\n",
      "\n",
      "Accuracy of class metal: 66.66666666666667\n",
      "Accuracy of class trash: 25.454545454545453\n",
      "Accuracy of class paper: 43.58974358974359\n",
      "Accuracy of class glass: 93.54838709677419\n",
      "Accuracy of class plastic: 85.71428571428571\n",
      "Accuracy of class cardboard: 52.94117647058823\n",
      "\n",
      "\n",
      "Training loss: 0.085, training acc: 97.525\n",
      "Validation loss: 1.803, validation acc: 62.992\n",
      "--------------------------------------------------\n"
     ]
    },
    {
     "name": "stderr",
     "output_type": "stream",
     "text": [
      "\n"
     ]
    },
    {
     "data": {
      "image/png": "[encoded data removed]",
      "text/plain": [
       "<Figure size 720x504 with 1 Axes>"
      ]
     },
     "metadata": {
      "needs_background": "light"
     },
     "output_type": "display_data"
    },
    {
     "data": {
      "image/png": "[encoded data removed]",
      "text/plain": [
       "<Figure size 720x504 with 1 Axes>"
      ]
     },
     "metadata": {
      "needs_background": "light"
     },
     "output_type": "display_data"
    },
    {
     "name": "stdout",
     "output_type": "stream",
     "text": [
      "TRAINING COMPLETE\n"
     ]
    }
   ],
   "source": [
    "training_loop(cdropnet, criterion, optimizer, 10)"
   ]
  },
  {
   "cell_type": "code",
   "execution_count": 45,
   "id": "e96f6101",
   "metadata": {},
   "outputs": [],
   "source": [
    "PATH = './garbage_cdnet.pth'\n",
    "torch.save(cdropnet.state_dict(), PATH)"
   ]
  },
  {
   "cell_type": "code",
   "execution_count": 46,
   "id": "706d1785",
   "metadata": {},
   "outputs": [
    {
     "data": {
      "text/plain": [
       "<All keys matched successfully>"
      ]
     },
     "execution_count": 46,
     "metadata": {},
     "output_type": "execute_result"
    }
   ],
   "source": [
    "cdropnet = CDropNet()\n",
    "cdropnet.load_state_dict(torch.load(\"./garbage_cdnet.pth\"))"
   ]
  },
  {
   "cell_type": "code",
   "execution_count": 47,
   "id": "e3dc3b72",
   "metadata": {},
   "outputs": [
    {
     "name": "stdout",
     "output_type": "stream",
     "text": [
      "Accuracy of the network on the test images: 62 %\n",
      "F1-score of the network on the test images: 0.6049316891747808\n"
     ]
    }
   ],
   "source": [
    "cdropnet.cuda()\n",
    "test(cdropnet)"
   ]
  },
  {
   "cell_type": "code",
   "execution_count": 48,
   "id": "333586dd",
   "metadata": {},
   "outputs": [
    {
     "name": "stdout",
     "output_type": "stream",
     "text": [
      "Accuracy for class: metal is 63.2 %\n",
      "Accuracy for class: trash is 32.0 %\n",
      "Accuracy for class: paper is 48.9 %\n",
      "Accuracy for class: glass is 92.7 %\n",
      "Accuracy for class: plastic is 74.5 %\n",
      "Accuracy for class: cardboard is 56.2 %\n"
     ]
    }
   ],
   "source": [
    "cdropnet.cuda()\n",
    "class_accuracy(cdropnet)"
   ]
  },
  {
   "cell_type": "code",
   "execution_count": 49,
   "id": "f9dde4d2",
   "metadata": {},
   "outputs": [
    {
     "data": {
      "image/png": "[encoded data removed]",
      "text/plain": [
       "<Figure size 432x288 with 1 Axes>"
      ]
     },
     "metadata": {
      "needs_background": "light"
     },
     "output_type": "display_data"
    }
   ],
   "source": [
    "explore(cdropnet, 5)"
   ]
  },
  {
   "cell_type": "code",
   "execution_count": 50,
   "id": "b6cab051",
   "metadata": {},
   "outputs": [],
   "source": [
    "del cdropnet\n",
    "del CDropNet"
   ]
  },
  {
   "cell_type": "markdown",
   "id": "865672b4",
   "metadata": {},
   "source": [
    "Observations\n",
    "1. We get a an overall accuracy of 62% - a dip from previous. Most classes do significantly better than chance.\n",
    "2. Trash classification accuracy is low but cardboard classification accuracy is better.\n",
    "3. Looking at the training loss and validation loss curves, there is evidence of overfitting.\n",
    "\n",
    "Conclusions\n",
    "1. The dropout on convolution layers further hampered model's learning"
   ]
  },
  {
   "cell_type": "markdown",
   "id": "670247e9",
   "metadata": {},
   "source": [
    "### Let's try with MLP\n",
    "As an experiment, let's see how we would do without the convolutional layers."
   ]
  },
  {
   "cell_type": "code",
   "execution_count": 51,
   "id": "5ee00a51",
   "metadata": {},
   "outputs": [
    {
     "data": {
      "text/plain": [
       "MLP(\n",
       "  (input_fc): Linear(in_features=150528, out_features=1024, bias=True)\n",
       "  (hidden_fc): Linear(in_features=1024, out_features=256, bias=True)\n",
       "  (output_fc): Linear(in_features=256, out_features=6, bias=True)\n",
       ")"
      ]
     },
     "execution_count": 51,
     "metadata": {},
     "output_type": "execute_result"
    }
   ],
   "source": [
    "import torch.nn as nn\n",
    "import torch.nn.functional as F\n",
    "class MLP(nn.Module):\n",
    "    def __init__(self):\n",
    "        super().__init__()\n",
    "        self.input_fc = nn.Linear(3*224*224, 1024)\n",
    "        self.hidden_fc = nn.Linear(1024, 256)\n",
    "        self.output_fc = nn.Linear(256, 6)\n",
    "\n",
    "    def forward(self, x):\n",
    "        batch_size = x.shape[0]\n",
    "\n",
    "        x = x.view(batch_size, -1)                      # x = [batch size, height * width]\n",
    "        h_1 = F.relu(self.input_fc(x))                   # h_1 = [batch size, 250]\n",
    "        h_2 = F.relu(self.hidden_fc(h_1))                # h_2 = [batch size, 100]\n",
    "        x = self.output_fc(h_2)                            # y_pred = [batch size, output dim]\n",
    "        return x\n",
    "    \n",
    "    def epoch_end(self, epoch, result):\n",
    "        print(\"Epoch {}: train_loss: {:.4f}, val_loss: {:.4f}, val_acc: {:.4f}\".format(\n",
    "            epoch+1, result['train_loss'], result['val_loss'], result['val_acc']))\n",
    "\n",
    "device = torch.device('cuda:0' if torch.cuda.is_available() else 'cpu')\n",
    "mlp = MLP()\n",
    "mlp.to(device)"
   ]
  },
  {
   "cell_type": "code",
   "execution_count": 52,
   "id": "278e0d02",
   "metadata": {},
   "outputs": [],
   "source": [
    "import torch.optim as optim\n",
    "\n",
    "criterion = nn.CrossEntropyLoss()\n",
    "optimizer = optim.SGD(mlp.parameters(), lr=0.001, momentum=0.9)"
   ]
  },
  {
   "cell_type": "code",
   "execution_count": 53,
   "id": "1b9ce820",
   "metadata": {
    "scrolled": true
   },
   "outputs": [
    {
     "name": "stdout",
     "output_type": "stream",
     "text": [
      "[INFO]: Epoch 1 of 10\n",
      "Training\n"
     ]
    },
    {
     "name": "stderr",
     "output_type": "stream",
     "text": [
      "100%|████████████████████████████████████████████████████████████████████████████████| 505/505 [00:04<00:00, 118.61it/s]"
     ]
    },
    {
     "name": "stdout",
     "output_type": "stream",
     "text": [
      "Validation\n"
     ]
    },
    {
     "name": "stderr",
     "output_type": "stream",
     "text": [
      "\n",
      "100%|██████████████████████████████████████████████████████████████████████████████████| 64/64 [00:00<00:00, 182.98it/s]"
     ]
    },
    {
     "name": "stdout",
     "output_type": "stream",
     "text": [
      "\n",
      "\n",
      "Accuracy of class metal: 56.41025641025641\n",
      "Accuracy of class trash: 12.727272727272727\n",
      "Accuracy of class paper: 10.256410256410257\n",
      "Accuracy of class glass: 27.419354838709676\n",
      "Accuracy of class plastic: 92.85714285714286\n",
      "Accuracy of class cardboard: 11.764705882352942\n",
      "\n",
      "\n",
      "Training loss: 1.595, training acc: 34.752\n",
      "Validation loss: 1.558, validation acc: 35.827\n",
      "--------------------------------------------------\n",
      "[INFO]: Epoch 2 of 10\n",
      "Training\n"
     ]
    },
    {
     "name": "stderr",
     "output_type": "stream",
     "text": [
      "\n",
      "100%|████████████████████████████████████████████████████████████████████████████████| 505/505 [00:04<00:00, 118.62it/s]"
     ]
    },
    {
     "name": "stdout",
     "output_type": "stream",
     "text": [
      "Validation\n"
     ]
    },
    {
     "name": "stderr",
     "output_type": "stream",
     "text": [
      "\n",
      "100%|██████████████████████████████████████████████████████████████████████████████████| 64/64 [00:00<00:00, 186.30it/s]"
     ]
    },
    {
     "name": "stdout",
     "output_type": "stream",
     "text": [
      "\n",
      "\n",
      "Accuracy of class metal: 53.84615384615385\n",
      "Accuracy of class trash: 50.90909090909091\n",
      "Accuracy of class paper: 58.97435897435897\n",
      "Accuracy of class glass: 27.419354838709676\n",
      "Accuracy of class plastic: 0.0\n",
      "Accuracy of class cardboard: 11.764705882352942\n",
      "\n",
      "\n",
      "Training loss: 1.421, training acc: 44.901\n",
      "Validation loss: 1.569, validation acc: 35.827\n",
      "--------------------------------------------------\n",
      "[INFO]: Epoch 3 of 10\n",
      "Training\n"
     ]
    },
    {
     "name": "stderr",
     "output_type": "stream",
     "text": [
      "\n",
      "100%|████████████████████████████████████████████████████████████████████████████████| 505/505 [00:04<00:00, 119.17it/s]"
     ]
    },
    {
     "name": "stdout",
     "output_type": "stream",
     "text": [
      "Validation\n"
     ]
    },
    {
     "name": "stderr",
     "output_type": "stream",
     "text": [
      "\n",
      "100%|██████████████████████████████████████████████████████████████████████████████████| 64/64 [00:00<00:00, 186.93it/s]"
     ]
    },
    {
     "name": "stdout",
     "output_type": "stream",
     "text": [
      "\n",
      "\n",
      "Accuracy of class metal: 46.15384615384615\n",
      "Accuracy of class trash: 1.8181818181818181\n",
      "Accuracy of class paper: 84.61538461538461\n",
      "Accuracy of class glass: 62.903225806451616\n",
      "Accuracy of class plastic: 45.23809523809524\n",
      "Accuracy of class cardboard: 0.0\n",
      "\n",
      "\n",
      "Training loss: 1.352, training acc: 47.178\n",
      "Validation loss: 1.428, validation acc: 43.307\n",
      "--------------------------------------------------\n",
      "[INFO]: Epoch 4 of 10\n",
      "Training\n"
     ]
    },
    {
     "name": "stderr",
     "output_type": "stream",
     "text": [
      "\n",
      "100%|████████████████████████████████████████████████████████████████████████████████| 505/505 [00:04<00:00, 118.83it/s]"
     ]
    },
    {
     "name": "stdout",
     "output_type": "stream",
     "text": [
      "Validation\n"
     ]
    },
    {
     "name": "stderr",
     "output_type": "stream",
     "text": [
      "\n",
      "100%|██████████████████████████████████████████████████████████████████████████████████| 64/64 [00:00<00:00, 188.62it/s]"
     ]
    },
    {
     "name": "stdout",
     "output_type": "stream",
     "text": [
      "\n",
      "\n",
      "Accuracy of class metal: 41.02564102564103\n",
      "Accuracy of class trash: 21.818181818181817\n",
      "Accuracy of class paper: 41.02564102564103\n",
      "Accuracy of class glass: 75.80645161290323\n",
      "Accuracy of class plastic: 83.33333333333333\n",
      "Accuracy of class cardboard: 23.529411764705884\n",
      "\n",
      "\n",
      "Training loss: 1.268, training acc: 52.079\n",
      "Validation loss: 1.295, validation acc: 51.181\n",
      "--------------------------------------------------\n",
      "[INFO]: Epoch 5 of 10\n",
      "Training\n"
     ]
    },
    {
     "name": "stderr",
     "output_type": "stream",
     "text": [
      "\n",
      "100%|████████████████████████████████████████████████████████████████████████████████| 505/505 [00:04<00:00, 118.48it/s]"
     ]
    },
    {
     "name": "stdout",
     "output_type": "stream",
     "text": [
      "Validation\n"
     ]
    },
    {
     "name": "stderr",
     "output_type": "stream",
     "text": [
      "\n",
      "100%|██████████████████████████████████████████████████████████████████████████████████| 64/64 [00:00<00:00, 183.63it/s]"
     ]
    },
    {
     "name": "stdout",
     "output_type": "stream",
     "text": [
      "\n",
      "\n",
      "Accuracy of class metal: 61.53846153846154\n",
      "Accuracy of class trash: 36.36363636363637\n",
      "Accuracy of class paper: 23.076923076923077\n",
      "Accuracy of class glass: 54.83870967741935\n",
      "Accuracy of class plastic: 69.04761904761905\n",
      "Accuracy of class cardboard: 23.529411764705884\n",
      "\n",
      "\n",
      "Training loss: 1.170, training acc: 55.198\n",
      "Validation loss: 1.432, validation acc: 47.244\n",
      "--------------------------------------------------\n",
      "[INFO]: Epoch 6 of 10\n",
      "Training\n"
     ]
    },
    {
     "name": "stderr",
     "output_type": "stream",
     "text": [
      "\n",
      "100%|████████████████████████████████████████████████████████████████████████████████| 505/505 [00:04<00:00, 118.98it/s]"
     ]
    },
    {
     "name": "stdout",
     "output_type": "stream",
     "text": [
      "Validation\n"
     ]
    },
    {
     "name": "stderr",
     "output_type": "stream",
     "text": [
      "\n",
      "100%|██████████████████████████████████████████████████████████████████████████████████| 64/64 [00:00<00:00, 184.55it/s]"
     ]
    },
    {
     "name": "stdout",
     "output_type": "stream",
     "text": [
      "\n",
      "\n",
      "Accuracy of class metal: 38.46153846153846\n",
      "Accuracy of class trash: 60.0\n",
      "Accuracy of class paper: 33.333333333333336\n",
      "Accuracy of class glass: 83.87096774193549\n",
      "Accuracy of class plastic: 7.142857142857143\n",
      "Accuracy of class cardboard: 29.41176470588235\n",
      "\n",
      "\n",
      "Training loss: 1.172, training acc: 55.198\n",
      "Validation loss: 1.387, validation acc: 47.638\n",
      "--------------------------------------------------\n",
      "[INFO]: Epoch 7 of 10\n",
      "Training\n"
     ]
    },
    {
     "name": "stderr",
     "output_type": "stream",
     "text": [
      "\n",
      "100%|████████████████████████████████████████████████████████████████████████████████| 505/505 [00:04<00:00, 118.72it/s]"
     ]
    },
    {
     "name": "stdout",
     "output_type": "stream",
     "text": [
      "Validation\n"
     ]
    },
    {
     "name": "stderr",
     "output_type": "stream",
     "text": [
      "\n",
      "100%|██████████████████████████████████████████████████████████████████████████████████| 64/64 [00:00<00:00, 183.62it/s]"
     ]
    },
    {
     "name": "stdout",
     "output_type": "stream",
     "text": [
      "\n",
      "\n",
      "Accuracy of class metal: 46.15384615384615\n",
      "Accuracy of class trash: 47.27272727272727\n",
      "Accuracy of class paper: 30.76923076923077\n",
      "Accuracy of class glass: 82.25806451612904\n",
      "Accuracy of class plastic: 64.28571428571429\n",
      "Accuracy of class cardboard: 5.882352941176471\n",
      "\n",
      "\n",
      "Training loss: 1.116, training acc: 57.376\n",
      "Validation loss: 1.372, validation acc: 53.150\n",
      "--------------------------------------------------\n",
      "[INFO]: Epoch 8 of 10\n",
      "Training\n"
     ]
    },
    {
     "name": "stderr",
     "output_type": "stream",
     "text": [
      "\n",
      "100%|████████████████████████████████████████████████████████████████████████████████| 505/505 [00:04<00:00, 118.69it/s]"
     ]
    },
    {
     "name": "stdout",
     "output_type": "stream",
     "text": [
      "Validation\n"
     ]
    },
    {
     "name": "stderr",
     "output_type": "stream",
     "text": [
      "\n",
      "100%|██████████████████████████████████████████████████████████████████████████████████| 64/64 [00:00<00:00, 186.74it/s]"
     ]
    },
    {
     "name": "stdout",
     "output_type": "stream",
     "text": [
      "\n",
      "\n",
      "Accuracy of class metal: 51.282051282051285\n",
      "Accuracy of class trash: 49.09090909090909\n",
      "Accuracy of class paper: 41.02564102564103\n",
      "Accuracy of class glass: 48.38709677419355\n",
      "Accuracy of class plastic: 71.42857142857143\n",
      "Accuracy of class cardboard: 17.647058823529413\n",
      "\n",
      "\n",
      "Training loss: 1.068, training acc: 60.297\n",
      "Validation loss: 1.385, validation acc: 49.606\n",
      "--------------------------------------------------\n",
      "[INFO]: Epoch 9 of 10\n",
      "Training\n"
     ]
    },
    {
     "name": "stderr",
     "output_type": "stream",
     "text": [
      "\n",
      "100%|████████████████████████████████████████████████████████████████████████████████| 505/505 [00:04<00:00, 119.24it/s]"
     ]
    },
    {
     "name": "stdout",
     "output_type": "stream",
     "text": [
      "Validation\n"
     ]
    },
    {
     "name": "stderr",
     "output_type": "stream",
     "text": [
      "\n",
      "100%|██████████████████████████████████████████████████████████████████████████████████| 64/64 [00:00<00:00, 186.29it/s]"
     ]
    },
    {
     "name": "stdout",
     "output_type": "stream",
     "text": [
      "\n",
      "\n",
      "Accuracy of class metal: 58.97435897435897\n",
      "Accuracy of class trash: 36.36363636363637\n",
      "Accuracy of class paper: 38.46153846153846\n",
      "Accuracy of class glass: 82.25806451612904\n",
      "Accuracy of class plastic: 54.76190476190476\n",
      "Accuracy of class cardboard: 41.1764705882353\n",
      "\n",
      "\n",
      "Training loss: 0.989, training acc: 64.109\n",
      "Validation loss: 1.442, validation acc: 54.724\n",
      "--------------------------------------------------\n",
      "[INFO]: Epoch 10 of 10\n",
      "Training\n"
     ]
    },
    {
     "name": "stderr",
     "output_type": "stream",
     "text": [
      "\n",
      "100%|████████████████████████████████████████████████████████████████████████████████| 505/505 [00:04<00:00, 118.06it/s]"
     ]
    },
    {
     "name": "stdout",
     "output_type": "stream",
     "text": [
      "Validation\n"
     ]
    },
    {
     "name": "stderr",
     "output_type": "stream",
     "text": [
      "\n",
      "100%|██████████████████████████████████████████████████████████████████████████████████| 64/64 [00:00<00:00, 190.04it/s]\n"
     ]
    },
    {
     "name": "stdout",
     "output_type": "stream",
     "text": [
      "\n",
      "\n",
      "Accuracy of class metal: 69.23076923076923\n",
      "Accuracy of class trash: 29.09090909090909\n",
      "Accuracy of class paper: 51.282051282051285\n",
      "Accuracy of class glass: 62.903225806451616\n",
      "Accuracy of class plastic: 4.761904761904762\n",
      "Accuracy of class cardboard: 35.294117647058826\n",
      "\n",
      "\n",
      "Training loss: 0.984, training acc: 63.366\n",
      "Validation loss: 1.722, validation acc: 43.307\n",
      "--------------------------------------------------\n"
     ]
    },
    {
     "data": {
      "image/png": "[encoded data removed]",
      "text/plain": [
       "<Figure size 720x504 with 1 Axes>"
      ]
     },
     "metadata": {
      "needs_background": "light"
     },
     "output_type": "display_data"
    },
    {
     "data": {
      "image/png": "[encoded data removed]",
      "text/plain": [
       "<Figure size 720x504 with 1 Axes>"
      ]
     },
     "metadata": {
      "needs_background": "light"
     },
     "output_type": "display_data"
    },
    {
     "name": "stdout",
     "output_type": "stream",
     "text": [
      "TRAINING COMPLETE\n"
     ]
    }
   ],
   "source": [
    "training_loop(mlp, criterion, optimizer, 10)"
   ]
  },
  {
   "cell_type": "code",
   "execution_count": 54,
   "id": "69d94067",
   "metadata": {},
   "outputs": [],
   "source": [
    "PATH = './garbage_mlp.pth'\n",
    "torch.save(mlp.state_dict(), PATH)"
   ]
  },
  {
   "cell_type": "code",
   "execution_count": 55,
   "id": "7b5d4072",
   "metadata": {},
   "outputs": [
    {
     "data": {
      "text/plain": [
       "<All keys matched successfully>"
      ]
     },
     "execution_count": 55,
     "metadata": {},
     "output_type": "execute_result"
    }
   ],
   "source": [
    "mlp = MLP()\n",
    "mlp.load_state_dict(torch.load(PATH))"
   ]
  },
  {
   "cell_type": "code",
   "execution_count": 56,
   "id": "6ed32aea",
   "metadata": {},
   "outputs": [
    {
     "name": "stdout",
     "output_type": "stream",
     "text": [
      "Accuracy of the network on the test images: 41 %\n",
      "F1-score of the network on the test images: 0.3996581551456499\n"
     ]
    }
   ],
   "source": [
    "mlp.cuda()\n",
    "test(mlp)"
   ]
  },
  {
   "cell_type": "code",
   "execution_count": 57,
   "id": "269c89a5",
   "metadata": {},
   "outputs": [
    {
     "name": "stdout",
     "output_type": "stream",
     "text": [
      "Accuracy for class: metal is 65.8 %\n",
      "Accuracy for class: trash is 20.0 %\n",
      "Accuracy for class: paper is 63.8 %\n",
      "Accuracy for class: glass is 45.5 %\n",
      "Accuracy for class: plastic is 14.9 %\n",
      "Accuracy for class: cardboard is 50.0 %\n"
     ]
    }
   ],
   "source": [
    "mlp.cuda()\n",
    "class_accuracy(mlp)"
   ]
  },
  {
   "cell_type": "code",
   "execution_count": 58,
   "id": "83597484",
   "metadata": {},
   "outputs": [
    {
     "data": {
      "image/png": "[encoded data removed]",
      "text/plain": [
       "<Figure size 432x288 with 1 Axes>"
      ]
     },
     "metadata": {
      "needs_background": "light"
     },
     "output_type": "display_data"
    }
   ],
   "source": [
    "explore(mlp, 5)"
   ]
  },
  {
   "cell_type": "code",
   "execution_count": 59,
   "id": "acd945fe",
   "metadata": {},
   "outputs": [],
   "source": [
    "del mlp\n",
    "del MLP"
   ]
  },
  {
   "cell_type": "markdown",
   "id": "06c24b80",
   "metadata": {},
   "source": [
    "Observations\n",
    "1. We get a an overall accuracy of 41%. Trash and plastic do barely better than chance.\n",
    "2. Looking at the training loss and validation loss curves, there is evidence of overfitting.\n",
    "\n",
    "Conclusions\n",
    "1. It's a bad idea to use MLP to handle images. MLPs use one perceptron per input so you get 224*224*3 + 1 = 150129 weight per neuron - can result in a very dense web of redundant and inefficient weights\n",
    "2. MLPs on their own (without convolutional layers) cannot capture spatial structure"
   ]
  },
  {
   "cell_type": "markdown",
   "id": "8a740bc5",
   "metadata": {},
   "source": [
    "### Let's make VGG 11 from scratch\n",
    "The models we tried above severely overfit, despite trying early stopping, weight decay, smaller learning rates to mitigate overfitting. Let's try the powerful VGG architecture."
   ]
  },
  {
   "cell_type": "code",
   "execution_count": 38,
   "id": "e84dd0b4",
   "metadata": {},
   "outputs": [],
   "source": [
    "import torch.nn as nn\n",
    "import torch.nn.functional as F\n",
    "\n",
    "class VGG(nn.Module):\n",
    "    def __init__(self, features, output_dim):\n",
    "        super().__init__()\n",
    "\n",
    "        self.features = features\n",
    "\n",
    "        self.avgpool = nn.AdaptiveAvgPool2d(7)\n",
    "\n",
    "        self.classifier = nn.Sequential(\n",
    "            nn.Linear(512 * 7 * 7, 4096),\n",
    "            nn.ReLU(inplace=True),\n",
    "            nn.Dropout(0.5),\n",
    "            nn.Linear(4096, 4096),\n",
    "            nn.ReLU(inplace=True),\n",
    "            nn.Dropout(0.5),\n",
    "            nn.Linear(4096, output_dim),\n",
    "        )\n",
    "\n",
    "    def forward(self, x):\n",
    "        x = self.features(x)\n",
    "        x = self.avgpool(x)\n",
    "        x = torch.flatten(x, 1) \n",
    "        x = self.classifier(x)\n",
    "        return x"
   ]
  },
  {
   "cell_type": "code",
   "execution_count": 39,
   "id": "d081faff",
   "metadata": {},
   "outputs": [],
   "source": [
    "vgg11_config = [64, 'M', 128, 'M', 256, 256, 'M', 512, 512, 'M', 512, 512, 'M']"
   ]
  },
  {
   "cell_type": "code",
   "execution_count": 40,
   "id": "9b5b2e71",
   "metadata": {},
   "outputs": [],
   "source": [
    "def get_vgg_layers(config, batch_norm):\n",
    "\n",
    "    layers = []\n",
    "    in_channels = 3\n",
    "\n",
    "    for c in config:\n",
    "        assert c == 'M' or isinstance(c, int)\n",
    "        if c == 'M':\n",
    "            layers += [nn.MaxPool2d(kernel_size=2)]\n",
    "        else:\n",
    "            conv2d = nn.Conv2d(in_channels, c, kernel_size=3, padding=1)\n",
    "            if batch_norm:\n",
    "                layers += [conv2d, nn.BatchNorm2d(c), nn.ReLU(inplace=True)]\n",
    "            else:\n",
    "                layers += [conv2d, nn.ReLU(inplace=True)]\n",
    "            in_channels = c\n",
    "\n",
    "    return nn.Sequential(*layers)"
   ]
  },
  {
   "cell_type": "code",
   "execution_count": 41,
   "id": "1554b17a",
   "metadata": {},
   "outputs": [],
   "source": [
    "vgg11_layers = get_vgg_layers(vgg11_config, batch_norm=True)"
   ]
  },
  {
   "cell_type": "code",
   "execution_count": 42,
   "id": "5d2e6725",
   "metadata": {
    "scrolled": true
   },
   "outputs": [],
   "source": [
    "device = torch.device('cuda:0' if torch.cuda.is_available() else 'cpu')\n",
    "vgg = VGG(vgg11_layers, 6)\n",
    "vgg = vgg.to(device)"
   ]
  },
  {
   "cell_type": "code",
   "execution_count": 65,
   "id": "b63b5011",
   "metadata": {},
   "outputs": [],
   "source": [
    "import torch.optim as optim\n",
    "\n",
    "criterion = nn.CrossEntropyLoss()\n",
    "optimizer = optim.SGD(vgg.parameters(), lr=0.001, momentum=0.9)"
   ]
  },
  {
   "cell_type": "code",
   "execution_count": 66,
   "id": "4a69ac6a",
   "metadata": {
    "scrolled": true
   },
   "outputs": [
    {
     "name": "stdout",
     "output_type": "stream",
     "text": [
      "[INFO]: Epoch 1 of 10\n",
      "Training\n"
     ]
    },
    {
     "name": "stderr",
     "output_type": "stream",
     "text": [
      "100%|█████████████████████████████████████████████████████████████████████████████████| 505/505 [00:09<00:00, 54.66it/s]"
     ]
    },
    {
     "name": "stdout",
     "output_type": "stream",
     "text": [
      "Validation\n"
     ]
    },
    {
     "name": "stderr",
     "output_type": "stream",
     "text": [
      "\n",
      "100%|██████████████████████████████████████████████████████████████████████████████████| 64/64 [00:00<00:00, 144.72it/s]"
     ]
    },
    {
     "name": "stdout",
     "output_type": "stream",
     "text": [
      "\n",
      "\n",
      "Accuracy of class metal: 64.1025641025641\n",
      "Accuracy of class trash: 32.72727272727273\n",
      "Accuracy of class paper: 17.94871794871795\n",
      "Accuracy of class glass: 29.032258064516128\n",
      "Accuracy of class plastic: 83.33333333333333\n",
      "Accuracy of class cardboard: 0.0\n",
      "\n",
      "\n",
      "Training loss: 1.880, training acc: 28.119\n",
      "Validation loss: 1.503, validation acc: 40.551\n",
      "--------------------------------------------------\n",
      "[INFO]: Epoch 2 of 10\n",
      "Training\n"
     ]
    },
    {
     "name": "stderr",
     "output_type": "stream",
     "text": [
      "\n",
      "100%|█████████████████████████████████████████████████████████████████████████████████| 505/505 [00:09<00:00, 55.07it/s]"
     ]
    },
    {
     "name": "stdout",
     "output_type": "stream",
     "text": [
      "Validation\n"
     ]
    },
    {
     "name": "stderr",
     "output_type": "stream",
     "text": [
      "\n",
      "100%|██████████████████████████████████████████████████████████████████████████████████| 64/64 [00:00<00:00, 147.25it/s]"
     ]
    },
    {
     "name": "stdout",
     "output_type": "stream",
     "text": [
      "\n",
      "\n",
      "Accuracy of class metal: 69.23076923076923\n",
      "Accuracy of class trash: 58.18181818181818\n",
      "Accuracy of class paper: 38.46153846153846\n",
      "Accuracy of class glass: 43.54838709677419\n",
      "Accuracy of class plastic: 80.95238095238095\n",
      "Accuracy of class cardboard: 0.0\n",
      "\n",
      "\n",
      "Training loss: 1.509, training acc: 40.099\n",
      "Validation loss: 1.239, validation acc: 53.150\n",
      "--------------------------------------------------\n",
      "[INFO]: Epoch 3 of 10\n",
      "Training\n"
     ]
    },
    {
     "name": "stderr",
     "output_type": "stream",
     "text": [
      "\n",
      "100%|█████████████████████████████████████████████████████████████████████████████████| 505/505 [00:09<00:00, 54.67it/s]"
     ]
    },
    {
     "name": "stdout",
     "output_type": "stream",
     "text": [
      "Validation\n"
     ]
    },
    {
     "name": "stderr",
     "output_type": "stream",
     "text": [
      "\n",
      "100%|██████████████████████████████████████████████████████████████████████████████████| 64/64 [00:00<00:00, 145.76it/s]"
     ]
    },
    {
     "name": "stdout",
     "output_type": "stream",
     "text": [
      "\n",
      "\n",
      "Accuracy of class metal: 61.53846153846154\n",
      "Accuracy of class trash: 27.272727272727273\n",
      "Accuracy of class paper: 33.333333333333336\n",
      "Accuracy of class glass: 75.80645161290323\n",
      "Accuracy of class plastic: 80.95238095238095\n",
      "Accuracy of class cardboard: 0.0\n",
      "\n",
      "\n",
      "Training loss: 1.449, training acc: 45.198\n",
      "Validation loss: 1.202, validation acc: 52.362\n",
      "--------------------------------------------------\n",
      "[INFO]: Epoch 4 of 10\n",
      "Training\n"
     ]
    },
    {
     "name": "stderr",
     "output_type": "stream",
     "text": [
      "\n",
      "100%|█████████████████████████████████████████████████████████████████████████████████| 505/505 [00:09<00:00, 54.59it/s]"
     ]
    },
    {
     "name": "stdout",
     "output_type": "stream",
     "text": [
      "Validation\n"
     ]
    },
    {
     "name": "stderr",
     "output_type": "stream",
     "text": [
      "\n",
      "100%|██████████████████████████████████████████████████████████████████████████████████| 64/64 [00:00<00:00, 145.98it/s]"
     ]
    },
    {
     "name": "stdout",
     "output_type": "stream",
     "text": [
      "\n",
      "\n",
      "Accuracy of class metal: 71.7948717948718\n",
      "Accuracy of class trash: 96.36363636363636\n",
      "Accuracy of class paper: 15.384615384615385\n",
      "Accuracy of class glass: 80.64516129032258\n",
      "Accuracy of class plastic: 45.23809523809524\n",
      "Accuracy of class cardboard: 0.0\n",
      "\n",
      "\n",
      "Training loss: 1.437, training acc: 44.010\n",
      "Validation loss: 1.125, validation acc: 61.417\n",
      "--------------------------------------------------\n",
      "[INFO]: Epoch 5 of 10\n",
      "Training\n"
     ]
    },
    {
     "name": "stderr",
     "output_type": "stream",
     "text": [
      "\n",
      "100%|█████████████████████████████████████████████████████████████████████████████████| 505/505 [00:09<00:00, 54.61it/s]"
     ]
    },
    {
     "name": "stdout",
     "output_type": "stream",
     "text": [
      "Validation\n"
     ]
    },
    {
     "name": "stderr",
     "output_type": "stream",
     "text": [
      "\n",
      "100%|██████████████████████████████████████████████████████████████████████████████████| 64/64 [00:00<00:00, 144.58it/s]"
     ]
    },
    {
     "name": "stdout",
     "output_type": "stream",
     "text": [
      "\n",
      "\n",
      "Accuracy of class metal: 71.7948717948718\n",
      "Accuracy of class trash: 70.9090909090909\n",
      "Accuracy of class paper: 51.282051282051285\n",
      "Accuracy of class glass: 51.61290322580645\n",
      "Accuracy of class plastic: 28.571428571428573\n",
      "Accuracy of class cardboard: 0.0\n",
      "\n",
      "\n",
      "Training loss: 1.322, training acc: 48.762\n",
      "Validation loss: 1.241, validation acc: 51.575\n",
      "--------------------------------------------------\n",
      "[INFO]: Epoch 6 of 10\n",
      "Training\n"
     ]
    },
    {
     "name": "stderr",
     "output_type": "stream",
     "text": [
      "\n",
      "100%|█████████████████████████████████████████████████████████████████████████████████| 505/505 [00:09<00:00, 54.43it/s]"
     ]
    },
    {
     "name": "stdout",
     "output_type": "stream",
     "text": [
      "Validation\n"
     ]
    },
    {
     "name": "stderr",
     "output_type": "stream",
     "text": [
      "\n",
      "100%|██████████████████████████████████████████████████████████████████████████████████| 64/64 [00:00<00:00, 146.00it/s]"
     ]
    },
    {
     "name": "stdout",
     "output_type": "stream",
     "text": [
      "\n",
      "\n",
      "Accuracy of class metal: 79.48717948717949\n",
      "Accuracy of class trash: 38.18181818181818\n",
      "Accuracy of class paper: 33.333333333333336\n",
      "Accuracy of class glass: 85.48387096774194\n",
      "Accuracy of class plastic: 83.33333333333333\n",
      "Accuracy of class cardboard: 17.647058823529413\n",
      "\n",
      "\n",
      "Training loss: 1.286, training acc: 51.634\n",
      "Validation loss: 1.046, validation acc: 61.417\n",
      "--------------------------------------------------\n",
      "[INFO]: Epoch 7 of 10\n",
      "Training\n"
     ]
    },
    {
     "name": "stderr",
     "output_type": "stream",
     "text": [
      "\n",
      "100%|█████████████████████████████████████████████████████████████████████████████████| 505/505 [00:09<00:00, 54.27it/s]"
     ]
    },
    {
     "name": "stdout",
     "output_type": "stream",
     "text": [
      "Validation\n"
     ]
    },
    {
     "name": "stderr",
     "output_type": "stream",
     "text": [
      "\n",
      "100%|██████████████████████████████████████████████████████████████████████████████████| 64/64 [00:00<00:00, 145.93it/s]"
     ]
    },
    {
     "name": "stdout",
     "output_type": "stream",
     "text": [
      "\n",
      "\n",
      "Accuracy of class metal: 71.7948717948718\n",
      "Accuracy of class trash: 65.45454545454545\n",
      "Accuracy of class paper: 35.8974358974359\n",
      "Accuracy of class glass: 96.7741935483871\n",
      "Accuracy of class plastic: 59.523809523809526\n",
      "Accuracy of class cardboard: 0.0\n",
      "\n",
      "\n",
      "Training loss: 1.257, training acc: 52.426\n",
      "Validation loss: 1.039, validation acc: 64.173\n",
      "--------------------------------------------------\n",
      "[INFO]: Epoch 8 of 10\n",
      "Training\n"
     ]
    },
    {
     "name": "stderr",
     "output_type": "stream",
     "text": [
      "\n",
      "100%|█████████████████████████████████████████████████████████████████████████████████| 505/505 [00:09<00:00, 54.25it/s]"
     ]
    },
    {
     "name": "stdout",
     "output_type": "stream",
     "text": [
      "Validation\n"
     ]
    },
    {
     "name": "stderr",
     "output_type": "stream",
     "text": [
      "\n",
      "100%|██████████████████████████████████████████████████████████████████████████████████| 64/64 [00:00<00:00, 146.13it/s]"
     ]
    },
    {
     "name": "stdout",
     "output_type": "stream",
     "text": [
      "\n",
      "\n",
      "Accuracy of class metal: 56.41025641025641\n",
      "Accuracy of class trash: 87.27272727272727\n",
      "Accuracy of class paper: 33.333333333333336\n",
      "Accuracy of class glass: 88.70967741935483\n",
      "Accuracy of class plastic: 47.61904761904762\n",
      "Accuracy of class cardboard: 0.0\n",
      "\n",
      "\n",
      "Training loss: 1.226, training acc: 53.812\n",
      "Validation loss: 1.055, validation acc: 62.205\n",
      "--------------------------------------------------\n",
      "[INFO]: Epoch 9 of 10\n",
      "Training\n"
     ]
    },
    {
     "name": "stderr",
     "output_type": "stream",
     "text": [
      "\n",
      "100%|█████████████████████████████████████████████████████████████████████████████████| 505/505 [00:09<00:00, 54.34it/s]"
     ]
    },
    {
     "name": "stdout",
     "output_type": "stream",
     "text": [
      "Validation\n"
     ]
    },
    {
     "name": "stderr",
     "output_type": "stream",
     "text": [
      "\n",
      "100%|██████████████████████████████████████████████████████████████████████████████████| 64/64 [00:00<00:00, 145.71it/s]"
     ]
    },
    {
     "name": "stdout",
     "output_type": "stream",
     "text": [
      "\n",
      "\n",
      "Accuracy of class metal: 82.05128205128206\n",
      "Accuracy of class trash: 50.90909090909091\n",
      "Accuracy of class paper: 48.717948717948715\n",
      "Accuracy of class glass: 83.87096774193549\n",
      "Accuracy of class plastic: 61.904761904761905\n",
      "Accuracy of class cardboard: 0.0\n",
      "\n",
      "\n",
      "Training loss: 1.200, training acc: 54.752\n",
      "Validation loss: 0.932, validation acc: 61.811\n",
      "--------------------------------------------------\n",
      "[INFO]: Epoch 10 of 10\n",
      "Training\n"
     ]
    },
    {
     "name": "stderr",
     "output_type": "stream",
     "text": [
      "\n",
      "100%|█████████████████████████████████████████████████████████████████████████████████| 505/505 [00:09<00:00, 54.19it/s]"
     ]
    },
    {
     "name": "stdout",
     "output_type": "stream",
     "text": [
      "Validation\n"
     ]
    },
    {
     "name": "stderr",
     "output_type": "stream",
     "text": [
      "\n",
      "100%|██████████████████████████████████████████████████████████████████████████████████| 64/64 [00:00<00:00, 145.20it/s]\n"
     ]
    },
    {
     "name": "stdout",
     "output_type": "stream",
     "text": [
      "\n",
      "\n",
      "Accuracy of class metal: 79.48717948717949\n",
      "Accuracy of class trash: 52.72727272727273\n",
      "Accuracy of class paper: 43.58974358974359\n",
      "Accuracy of class glass: 95.16129032258064\n",
      "Accuracy of class plastic: 69.04761904761905\n",
      "Accuracy of class cardboard: 17.647058823529413\n",
      "\n",
      "\n",
      "Training loss: 1.150, training acc: 56.980\n",
      "Validation loss: 0.911, validation acc: 66.142\n",
      "--------------------------------------------------\n"
     ]
    },
    {
     "data": {
      "image/png": "[encoded data removed]",
      "text/plain": [
       "<Figure size 720x504 with 1 Axes>"
      ]
     },
     "metadata": {
      "needs_background": "light"
     },
     "output_type": "display_data"
    },
    {
     "data": {
      "image/png": "[encoded data removed]",
      "text/plain": [
       "<Figure size 720x504 with 1 Axes>"
      ]
     },
     "metadata": {
      "needs_background": "light"
     },
     "output_type": "display_data"
    },
    {
     "name": "stdout",
     "output_type": "stream",
     "text": [
      "TRAINING COMPLETE\n"
     ]
    }
   ],
   "source": [
    "training_loop(vgg, criterion, optimizer, 10)"
   ]
  },
  {
   "cell_type": "code",
   "execution_count": 67,
   "id": "7f669fdf",
   "metadata": {},
   "outputs": [],
   "source": [
    "PATH = './garbage_mlp.pth'\n",
    "torch.save(vgg.state_dict(), PATH)"
   ]
  },
  {
   "cell_type": "code",
   "execution_count": 68,
   "id": "61c7c2e5",
   "metadata": {},
   "outputs": [
    {
     "data": {
      "text/plain": [
       "<All keys matched successfully>"
      ]
     },
     "execution_count": 68,
     "metadata": {},
     "output_type": "execute_result"
    }
   ],
   "source": [
    "vgg = VGG(vgg11_layers, 6)\n",
    "vgg.load_state_dict(torch.load(PATH))"
   ]
  },
  {
   "cell_type": "code",
   "execution_count": 69,
   "id": "f72a50da",
   "metadata": {},
   "outputs": [
    {
     "name": "stdout",
     "output_type": "stream",
     "text": [
      "Accuracy of the network on the test images: 57 %\n",
      "F1-score of the network on the test images: 0.5603174851716965\n"
     ]
    }
   ],
   "source": [
    "vgg.cuda()\n",
    "test(vgg)"
   ]
  },
  {
   "cell_type": "code",
   "execution_count": 70,
   "id": "2a74b1da",
   "metadata": {},
   "outputs": [
    {
     "name": "stdout",
     "output_type": "stream",
     "text": [
      "Accuracy for class: metal is 81.6 %\n",
      "Accuracy for class: trash is 54.0 %\n",
      "Accuracy for class: paper is 48.9 %\n",
      "Accuracy for class: glass is 89.1 %\n",
      "Accuracy for class: plastic is 51.1 %\n",
      "Accuracy for class: cardboard is 31.2 %\n"
     ]
    }
   ],
   "source": [
    "vgg.cuda()\n",
    "class_accuracy(vgg)"
   ]
  },
  {
   "cell_type": "code",
   "execution_count": 71,
   "id": "1dea9818",
   "metadata": {
    "scrolled": true
   },
   "outputs": [
    {
     "data": {
      "image/png": "[encoded data removed]",
      "text/plain": [
       "<Figure size 432x288 with 1 Axes>"
      ]
     },
     "metadata": {
      "needs_background": "light"
     },
     "output_type": "display_data"
    }
   ],
   "source": [
    "vgg.cuda()\n",
    "explore(vgg, 5)"
   ]
  },
  {
   "cell_type": "code",
   "execution_count": null,
   "id": "afb8dac4",
   "metadata": {
    "scrolled": true
   },
   "outputs": [],
   "source": [
    "del vgg"
   ]
  },
  {
   "cell_type": "markdown",
   "id": "63adab13",
   "metadata": {},
   "source": [
    "Hmmm, this model's training loss and validation loss curves look promising. Let's try with more epochs"
   ]
  },
  {
   "cell_type": "markdown",
   "id": "4fa6effb",
   "metadata": {},
   "source": [
    "Observations\n",
    "1. We get a an overall accuracy of 57% - not as good as the other models at 10 epochs. \n",
    "2. Cardboard classification accuracy is low.\n",
    "3. Looking at the training loss and validation loss curves, there is some promise, because there is no longer any evidence of overfitting.\n",
    "\n",
    "Conclusions\n",
    "1. We should try on more epochs, because, looking at the training loss and validation loss curves, the model shows potential to learn more."
   ]
  },
  {
   "cell_type": "markdown",
   "id": "257536bb",
   "metadata": {},
   "source": [
    "### VGG11 at 15 epochs"
   ]
  },
  {
   "cell_type": "code",
   "execution_count": 74,
   "id": "7cc85a96",
   "metadata": {
    "scrolled": true
   },
   "outputs": [
    {
     "name": "stdout",
     "output_type": "stream",
     "text": [
      "[INFO]: Epoch 1 of 15\n",
      "Training\n"
     ]
    },
    {
     "name": "stderr",
     "output_type": "stream",
     "text": [
      "100%|█████████████████████████████████████████████████████████████████████████████████| 505/505 [00:07<00:00, 66.20it/s]"
     ]
    },
    {
     "name": "stdout",
     "output_type": "stream",
     "text": [
      "Validation\n"
     ]
    },
    {
     "name": "stderr",
     "output_type": "stream",
     "text": [
      "\n",
      "100%|██████████████████████████████████████████████████████████████████████████████████| 64/64 [00:00<00:00, 146.10it/s]"
     ]
    },
    {
     "name": "stdout",
     "output_type": "stream",
     "text": [
      "\n",
      "\n",
      "Accuracy of class metal: 76.92307692307692\n",
      "Accuracy of class trash: 58.18181818181818\n",
      "Accuracy of class paper: 46.15384615384615\n",
      "Accuracy of class glass: 95.16129032258064\n",
      "Accuracy of class plastic: 78.57142857142857\n",
      "Accuracy of class cardboard: 0.0\n",
      "\n",
      "\n",
      "Training loss: 1.397, training acc: 54.703\n",
      "Validation loss: 1.110, validation acc: 67.717\n",
      "--------------------------------------------------\n",
      "[INFO]: Epoch 2 of 15\n",
      "Training\n"
     ]
    },
    {
     "name": "stderr",
     "output_type": "stream",
     "text": [
      "\n",
      "100%|█████████████████████████████████████████████████████████████████████████████████| 505/505 [00:07<00:00, 65.91it/s]"
     ]
    },
    {
     "name": "stdout",
     "output_type": "stream",
     "text": [
      "Validation\n"
     ]
    },
    {
     "name": "stderr",
     "output_type": "stream",
     "text": [
      "\n",
      "100%|██████████████████████████████████████████████████████████████████████████████████| 64/64 [00:00<00:00, 146.06it/s]"
     ]
    },
    {
     "name": "stdout",
     "output_type": "stream",
     "text": [
      "\n",
      "\n",
      "Accuracy of class metal: 82.05128205128206\n",
      "Accuracy of class trash: 92.72727272727273\n",
      "Accuracy of class paper: 46.15384615384615\n",
      "Accuracy of class glass: 96.7741935483871\n",
      "Accuracy of class plastic: 73.80952380952381\n",
      "Accuracy of class cardboard: 0.0\n",
      "\n",
      "\n",
      "Training loss: 1.105, training acc: 66.188\n",
      "Validation loss: 0.959, validation acc: 75.591\n",
      "--------------------------------------------------\n",
      "[INFO]: Epoch 3 of 15\n",
      "Training\n"
     ]
    },
    {
     "name": "stderr",
     "output_type": "stream",
     "text": [
      "\n",
      "100%|█████████████████████████████████████████████████████████████████████████████████| 505/505 [00:07<00:00, 65.71it/s]"
     ]
    },
    {
     "name": "stdout",
     "output_type": "stream",
     "text": [
      "Validation\n"
     ]
    },
    {
     "name": "stderr",
     "output_type": "stream",
     "text": [
      "\n",
      "100%|██████████████████████████████████████████████████████████████████████████████████| 64/64 [00:00<00:00, 145.80it/s]"
     ]
    },
    {
     "name": "stdout",
     "output_type": "stream",
     "text": [
      "\n",
      "\n",
      "Accuracy of class metal: 82.05128205128206\n",
      "Accuracy of class trash: 65.45454545454545\n",
      "Accuracy of class paper: 74.35897435897436\n",
      "Accuracy of class glass: 88.70967741935483\n",
      "Accuracy of class plastic: 78.57142857142857\n",
      "Accuracy of class cardboard: 17.647058823529413\n",
      "\n",
      "\n",
      "Training loss: 0.998, training acc: 69.059\n",
      "Validation loss: 0.917, validation acc: 74.016\n",
      "--------------------------------------------------\n",
      "[INFO]: Epoch 4 of 15\n",
      "Training\n"
     ]
    },
    {
     "name": "stderr",
     "output_type": "stream",
     "text": [
      "\n",
      "100%|█████████████████████████████████████████████████████████████████████████████████| 505/505 [00:07<00:00, 65.58it/s]"
     ]
    },
    {
     "name": "stdout",
     "output_type": "stream",
     "text": [
      "Validation\n"
     ]
    },
    {
     "name": "stderr",
     "output_type": "stream",
     "text": [
      "\n",
      "100%|██████████████████████████████████████████████████████████████████████████████████| 64/64 [00:00<00:00, 149.34it/s]"
     ]
    },
    {
     "name": "stdout",
     "output_type": "stream",
     "text": [
      "\n",
      "\n",
      "Accuracy of class metal: 82.05128205128206\n",
      "Accuracy of class trash: 98.18181818181819\n",
      "Accuracy of class paper: 64.1025641025641\n",
      "Accuracy of class glass: 91.93548387096774\n",
      "Accuracy of class plastic: 66.66666666666667\n",
      "Accuracy of class cardboard: 11.764705882352942\n",
      "\n",
      "\n",
      "Training loss: 0.936, training acc: 71.683\n",
      "Validation loss: 0.851, validation acc: 77.953\n",
      "--------------------------------------------------\n",
      "[INFO]: Epoch 5 of 15\n",
      "Training\n"
     ]
    },
    {
     "name": "stderr",
     "output_type": "stream",
     "text": [
      "\n",
      "100%|█████████████████████████████████████████████████████████████████████████████████| 505/505 [00:07<00:00, 65.28it/s]"
     ]
    },
    {
     "name": "stdout",
     "output_type": "stream",
     "text": [
      "Validation\n"
     ]
    },
    {
     "name": "stderr",
     "output_type": "stream",
     "text": [
      "\n",
      "100%|██████████████████████████████████████████████████████████████████████████████████| 64/64 [00:00<00:00, 145.53it/s]"
     ]
    },
    {
     "name": "stdout",
     "output_type": "stream",
     "text": [
      "\n",
      "\n",
      "Accuracy of class metal: 82.05128205128206\n",
      "Accuracy of class trash: 90.9090909090909\n",
      "Accuracy of class paper: 71.7948717948718\n",
      "Accuracy of class glass: 95.16129032258064\n",
      "Accuracy of class plastic: 66.66666666666667\n",
      "Accuracy of class cardboard: 11.764705882352942\n",
      "\n",
      "\n",
      "Training loss: 0.879, training acc: 75.248\n",
      "Validation loss: 0.807, validation acc: 78.346\n",
      "--------------------------------------------------\n",
      "[INFO]: Epoch 6 of 15\n",
      "Training\n"
     ]
    },
    {
     "name": "stderr",
     "output_type": "stream",
     "text": [
      "\n",
      "100%|█████████████████████████████████████████████████████████████████████████████████| 505/505 [00:07<00:00, 65.24it/s]"
     ]
    },
    {
     "name": "stdout",
     "output_type": "stream",
     "text": [
      "Validation\n"
     ]
    },
    {
     "name": "stderr",
     "output_type": "stream",
     "text": [
      "\n",
      "100%|██████████████████████████████████████████████████████████████████████████████████| 64/64 [00:00<00:00, 146.53it/s]"
     ]
    },
    {
     "name": "stdout",
     "output_type": "stream",
     "text": [
      "\n",
      "\n",
      "Accuracy of class metal: 76.92307692307692\n",
      "Accuracy of class trash: 89.0909090909091\n",
      "Accuracy of class paper: 41.02564102564103\n",
      "Accuracy of class glass: 98.38709677419355\n",
      "Accuracy of class plastic: 71.42857142857143\n",
      "Accuracy of class cardboard: 17.647058823529413\n",
      "\n",
      "\n",
      "Training loss: 0.835, training acc: 76.733\n",
      "Validation loss: 0.806, validation acc: 74.409\n",
      "--------------------------------------------------\n",
      "[INFO]: Epoch 7 of 15\n",
      "Training\n"
     ]
    },
    {
     "name": "stderr",
     "output_type": "stream",
     "text": [
      "\n",
      "100%|█████████████████████████████████████████████████████████████████████████████████| 505/505 [00:07<00:00, 65.10it/s]"
     ]
    },
    {
     "name": "stdout",
     "output_type": "stream",
     "text": [
      "Validation\n"
     ]
    },
    {
     "name": "stderr",
     "output_type": "stream",
     "text": [
      "\n",
      "100%|██████████████████████████████████████████████████████████████████████████████████| 64/64 [00:00<00:00, 146.45it/s]"
     ]
    },
    {
     "name": "stdout",
     "output_type": "stream",
     "text": [
      "\n",
      "\n",
      "Accuracy of class metal: 89.74358974358974\n",
      "Accuracy of class trash: 85.45454545454545\n",
      "Accuracy of class paper: 79.48717948717949\n",
      "Accuracy of class glass: 85.48387096774194\n",
      "Accuracy of class plastic: 76.19047619047619\n",
      "Accuracy of class cardboard: 17.647058823529413\n",
      "\n",
      "\n",
      "Training loss: 0.801, training acc: 76.832\n",
      "Validation loss: 0.772, validation acc: 79.134\n",
      "--------------------------------------------------\n",
      "[INFO]: Epoch 8 of 15\n",
      "Training\n"
     ]
    },
    {
     "name": "stderr",
     "output_type": "stream",
     "text": [
      "\n",
      "100%|█████████████████████████████████████████████████████████████████████████████████| 505/505 [00:07<00:00, 64.86it/s]"
     ]
    },
    {
     "name": "stdout",
     "output_type": "stream",
     "text": [
      "Validation\n"
     ]
    },
    {
     "name": "stderr",
     "output_type": "stream",
     "text": [
      "\n",
      "100%|██████████████████████████████████████████████████████████████████████████████████| 64/64 [00:00<00:00, 144.34it/s]"
     ]
    },
    {
     "name": "stdout",
     "output_type": "stream",
     "text": [
      "\n",
      "\n",
      "Accuracy of class metal: 79.48717948717949\n",
      "Accuracy of class trash: 67.27272727272727\n",
      "Accuracy of class paper: 41.02564102564103\n",
      "Accuracy of class glass: 96.7741935483871\n",
      "Accuracy of class plastic: 78.57142857142857\n",
      "Accuracy of class cardboard: 11.764705882352942\n",
      "\n",
      "\n",
      "Training loss: 0.758, training acc: 78.564\n",
      "Validation loss: 0.819, validation acc: 70.472\n",
      "--------------------------------------------------\n",
      "[INFO]: Epoch 9 of 15\n",
      "Training\n"
     ]
    },
    {
     "name": "stderr",
     "output_type": "stream",
     "text": [
      "\n",
      "100%|█████████████████████████████████████████████████████████████████████████████████| 505/505 [00:07<00:00, 64.95it/s]"
     ]
    },
    {
     "name": "stdout",
     "output_type": "stream",
     "text": [
      "Validation\n"
     ]
    },
    {
     "name": "stderr",
     "output_type": "stream",
     "text": [
      "\n",
      "100%|██████████████████████████████████████████████████████████████████████████████████| 64/64 [00:00<00:00, 146.20it/s]"
     ]
    },
    {
     "name": "stdout",
     "output_type": "stream",
     "text": [
      "\n",
      "\n",
      "Accuracy of class metal: 74.35897435897436\n",
      "Accuracy of class trash: 72.72727272727273\n",
      "Accuracy of class paper: 61.53846153846154\n",
      "Accuracy of class glass: 100.0\n",
      "Accuracy of class plastic: 59.523809523809526\n",
      "Accuracy of class cardboard: 29.41176470588235\n",
      "\n",
      "\n",
      "Training loss: 0.730, training acc: 80.693\n",
      "Validation loss: 0.792, validation acc: 72.835\n",
      "--------------------------------------------------\n",
      "[INFO]: Epoch 10 of 15\n",
      "Training\n"
     ]
    },
    {
     "name": "stderr",
     "output_type": "stream",
     "text": [
      "\n",
      "100%|█████████████████████████████████████████████████████████████████████████████████| 505/505 [00:07<00:00, 64.96it/s]"
     ]
    },
    {
     "name": "stdout",
     "output_type": "stream",
     "text": [
      "Validation\n"
     ]
    },
    {
     "name": "stderr",
     "output_type": "stream",
     "text": [
      "\n",
      "100%|██████████████████████████████████████████████████████████████████████████████████| 64/64 [00:00<00:00, 146.70it/s]"
     ]
    },
    {
     "name": "stdout",
     "output_type": "stream",
     "text": [
      "\n",
      "\n",
      "Accuracy of class metal: 82.05128205128206\n",
      "Accuracy of class trash: 83.63636363636364\n",
      "Accuracy of class paper: 76.92307692307692\n",
      "Accuracy of class glass: 100.0\n",
      "Accuracy of class plastic: 73.80952380952381\n",
      "Accuracy of class cardboard: 35.294117647058826\n",
      "\n",
      "\n",
      "Training loss: 0.713, training acc: 79.703\n",
      "Validation loss: 0.665, validation acc: 81.496\n",
      "--------------------------------------------------\n",
      "[INFO]: Epoch 11 of 15\n",
      "Training\n"
     ]
    },
    {
     "name": "stderr",
     "output_type": "stream",
     "text": [
      "\n",
      "100%|█████████████████████████████████████████████████████████████████████████████████| 505/505 [00:07<00:00, 64.89it/s]"
     ]
    },
    {
     "name": "stdout",
     "output_type": "stream",
     "text": [
      "Validation\n"
     ]
    },
    {
     "name": "stderr",
     "output_type": "stream",
     "text": [
      "\n",
      "100%|██████████████████████████████████████████████████████████████████████████████████| 64/64 [00:00<00:00, 146.19it/s]"
     ]
    },
    {
     "name": "stdout",
     "output_type": "stream",
     "text": [
      "\n",
      "\n",
      "Accuracy of class metal: 82.05128205128206\n",
      "Accuracy of class trash: 96.36363636363636\n",
      "Accuracy of class paper: 66.66666666666667\n",
      "Accuracy of class glass: 90.3225806451613\n",
      "Accuracy of class plastic: 78.57142857142857\n",
      "Accuracy of class cardboard: 29.41176470588235\n",
      "\n",
      "\n",
      "Training loss: 0.657, training acc: 81.584\n",
      "Validation loss: 0.673, validation acc: 80.709\n",
      "--------------------------------------------------\n",
      "[INFO]: Epoch 12 of 15\n",
      "Training\n"
     ]
    },
    {
     "name": "stderr",
     "output_type": "stream",
     "text": [
      "\n",
      "100%|█████████████████████████████████████████████████████████████████████████████████| 505/505 [00:07<00:00, 64.79it/s]"
     ]
    },
    {
     "name": "stdout",
     "output_type": "stream",
     "text": [
      "Validation\n"
     ]
    },
    {
     "name": "stderr",
     "output_type": "stream",
     "text": [
      "\n",
      "100%|██████████████████████████████████████████████████████████████████████████████████| 64/64 [00:00<00:00, 144.98it/s]"
     ]
    },
    {
     "name": "stdout",
     "output_type": "stream",
     "text": [
      "\n",
      "\n",
      "Accuracy of class metal: 89.74358974358974\n",
      "Accuracy of class trash: 69.0909090909091\n",
      "Accuracy of class paper: 41.02564102564103\n",
      "Accuracy of class glass: 96.7741935483871\n",
      "Accuracy of class plastic: 88.0952380952381\n",
      "Accuracy of class cardboard: 35.294117647058826\n",
      "\n",
      "\n",
      "Training loss: 0.640, training acc: 82.525\n",
      "Validation loss: 0.730, validation acc: 75.591\n",
      "--------------------------------------------------\n",
      "[INFO]: Epoch 13 of 15\n",
      "Training\n"
     ]
    },
    {
     "name": "stderr",
     "output_type": "stream",
     "text": [
      "\n",
      "100%|█████████████████████████████████████████████████████████████████████████████████| 505/505 [00:07<00:00, 64.71it/s]"
     ]
    },
    {
     "name": "stdout",
     "output_type": "stream",
     "text": [
      "Validation\n"
     ]
    },
    {
     "name": "stderr",
     "output_type": "stream",
     "text": [
      "\n",
      "100%|██████████████████████████████████████████████████████████████████████████████████| 64/64 [00:00<00:00, 146.65it/s]"
     ]
    },
    {
     "name": "stdout",
     "output_type": "stream",
     "text": [
      "\n",
      "\n",
      "Accuracy of class metal: 76.92307692307692\n",
      "Accuracy of class trash: 85.45454545454545\n",
      "Accuracy of class paper: 48.717948717948715\n",
      "Accuracy of class glass: 98.38709677419355\n",
      "Accuracy of class plastic: 69.04761904761905\n",
      "Accuracy of class cardboard: 35.294117647058826\n",
      "\n",
      "\n",
      "Training loss: 0.630, training acc: 83.020\n",
      "Validation loss: 0.666, validation acc: 75.591\n",
      "--------------------------------------------------\n",
      "[INFO]: Epoch 14 of 15\n",
      "Training\n"
     ]
    },
    {
     "name": "stderr",
     "output_type": "stream",
     "text": [
      "\n",
      "100%|█████████████████████████████████████████████████████████████████████████████████| 505/505 [00:07<00:00, 64.62it/s]"
     ]
    },
    {
     "name": "stdout",
     "output_type": "stream",
     "text": [
      "Validation\n"
     ]
    },
    {
     "name": "stderr",
     "output_type": "stream",
     "text": [
      "\n",
      "100%|██████████████████████████████████████████████████████████████████████████████████| 64/64 [00:00<00:00, 146.55it/s]"
     ]
    },
    {
     "name": "stdout",
     "output_type": "stream",
     "text": [
      "\n",
      "\n",
      "Accuracy of class metal: 89.74358974358974\n",
      "Accuracy of class trash: 81.81818181818181\n",
      "Accuracy of class paper: 64.1025641025641\n",
      "Accuracy of class glass: 98.38709677419355\n",
      "Accuracy of class plastic: 76.19047619047619\n",
      "Accuracy of class cardboard: 41.1764705882353\n",
      "\n",
      "\n",
      "Training loss: 0.591, training acc: 84.307\n",
      "Validation loss: 0.648, validation acc: 80.709\n",
      "--------------------------------------------------\n",
      "[INFO]: Epoch 15 of 15\n",
      "Training\n"
     ]
    },
    {
     "name": "stderr",
     "output_type": "stream",
     "text": [
      "\n",
      "100%|█████████████████████████████████████████████████████████████████████████████████| 505/505 [00:07<00:00, 64.77it/s]"
     ]
    },
    {
     "name": "stdout",
     "output_type": "stream",
     "text": [
      "Validation\n"
     ]
    },
    {
     "name": "stderr",
     "output_type": "stream",
     "text": [
      "\n",
      "100%|██████████████████████████████████████████████████████████████████████████████████| 64/64 [00:00<00:00, 145.09it/s]\n"
     ]
    },
    {
     "name": "stdout",
     "output_type": "stream",
     "text": [
      "\n",
      "\n",
      "Accuracy of class metal: 89.74358974358974\n",
      "Accuracy of class trash: 90.9090909090909\n",
      "Accuracy of class paper: 66.66666666666667\n",
      "Accuracy of class glass: 95.16129032258064\n",
      "Accuracy of class plastic: 78.57142857142857\n",
      "Accuracy of class cardboard: 41.1764705882353\n",
      "\n",
      "\n",
      "Training loss: 0.549, training acc: 86.337\n",
      "Validation loss: 0.595, validation acc: 82.677\n",
      "--------------------------------------------------\n"
     ]
    },
    {
     "data": {
      "image/png": "[encoded data removed]",
      "text/plain": [
       "<Figure size 720x504 with 1 Axes>"
      ]
     },
     "metadata": {
      "needs_background": "light"
     },
     "output_type": "display_data"
    },
    {
     "data": {
      "image/png": "[encoded data removed]",
      "text/plain": [
       "<Figure size 720x504 with 1 Axes>"
      ]
     },
     "metadata": {
      "needs_background": "light"
     },
     "output_type": "display_data"
    },
    {
     "name": "stdout",
     "output_type": "stream",
     "text": [
      "TRAINING COMPLETE\n"
     ]
    }
   ],
   "source": [
    "device = torch.device('cuda:0' if torch.cuda.is_available() else 'cpu')\n",
    "vgg = VGG(vgg11_layers, 6)\n",
    "vgg = vgg.to(device)\n",
    "training_loop(vgg, criterion, optimizer, 15)\n"
   ]
  },
  {
   "cell_type": "code",
   "execution_count": 43,
   "id": "3d5192e9",
   "metadata": {},
   "outputs": [
    {
     "data": {
      "text/plain": [
       "<All keys matched successfully>"
      ]
     },
     "execution_count": 43,
     "metadata": {},
     "output_type": "execute_result"
    }
   ],
   "source": [
    "PATH = './garbage_mlp.pth'\n",
    "torch.save(vgg.state_dict(), PATH)\n",
    "vgg = VGG(vgg11_layers, 6)\n",
    "vgg.load_state_dict(torch.load(PATH))"
   ]
  },
  {
   "cell_type": "code",
   "execution_count": 99,
   "id": "793a3792",
   "metadata": {},
   "outputs": [
    {
     "name": "stdout",
     "output_type": "stream",
     "text": [
      "Accuracy of the network on the test images: 84 %\n",
      "F1-score of the network on the test images: 0.8486275822545579\n"
     ]
    }
   ],
   "source": [
    "vgg.cuda()\n",
    "test(vgg)"
   ]
  },
  {
   "cell_type": "code",
   "execution_count": 106,
   "id": "b30a683e",
   "metadata": {},
   "outputs": [],
   "source": [
    "del vgg\n",
    "del VGG"
   ]
  },
  {
   "cell_type": "markdown",
   "id": "1575c60d",
   "metadata": {},
   "source": [
    "Observations\n",
    "1. We get a an overall accuracy of 84%. \n",
    "2. There is no overfitting\n",
    "\n",
    "Conclusions\n",
    "1. Perhaps a deeper model can learn more about the image than the sample model we were trying."
   ]
  },
  {
   "cell_type": "markdown",
   "id": "08ddff43",
   "metadata": {},
   "source": [
    "## Summary of model accuracy and F1-Score"
   ]
  },
  {
   "cell_type": "markdown",
   "id": "86a17c75",
   "metadata": {},
   "source": [
    "![alt text](summary.png \"Summary\")"
   ]
  },
  {
   "cell_type": "markdown",
   "id": "58c5dd48",
   "metadata": {},
   "source": [
    "To conclude, I think the models were overfitting because the large number of features that were being fed into the linear layers resulted in a large number of redundant and inefficient weights with little idea of spatial structure. For context, the models before VGG-11 fed in 128*56*56 = 401408 features into the first linear layer and had an output dimension of 1296 unlike the VGG-11 whose first linear layer was fed 25088 features (16 times smaller) and had an output size of 4069./\n",
    "Since such a large number of features was forced into such a small output size, the model is forced to learn a very compact representation of these features, that can help with training accuracy but not validatoin accuracy. "
   ]
  },
  {
   "cell_type": "markdown",
   "id": "6768756d",
   "metadata": {},
   "source": [
    "## Improvements"
   ]
  },
  {
   "attachments": {},
   "cell_type": "markdown",
   "id": "ca913b61",
   "metadata": {},
   "source": [
    "### Model architecture \n",
    "The models had a hard time classifying cardboard images suggesting that there was a lack of discriminative features in the cardboard images. We need more powerful models to extract these features through: \n",
    "1. Increase the depth or width of the network by adding more convolutional layers or increasing the number of filters in existing layers. \n",
    "2. Using advanced architectures like ResNet \n",
    "\n",
    "### Data\n",
    "1. Rescaling images - two issues to address are that the rescaling was too high and the aspect ratio was changed during rescaling. This caused some information loss. (this was measured separately using MSE to see the difference between original and rescaled image) - Try to use original images.\n",
    "2. Gather more data - use existing datasets \n",
    "3. Apply data augmentation techniques during training, such as random cropping, rotation, scaling, or flipping of the input images => increases diversity of the data\n",
    "\n",
    "### Finding optimal hyperparameters\n",
    "1. Using Bayesain optimization to find the best set of hyperparameters\n",
    "\n",
    "### Metrics\n",
    "1. The f1-Score was quite similar to the accuracy in terms of magnitude. Even though we present the class-wise classification accuracy, we can add confusion matrices too. "
   ]
  }
 ],
 "metadata": {
  "kernelspec": {
   "display_name": "Python 3 (ipykernel)",
   "language": "python",
   "name": "python3"
  },
  "language_info": {
   "codemirror_mode": {
    "name": "ipython",
    "version": 3
   },
   "file_extension": ".py",
   "mimetype": "text/x-python",
   "name": "python",
   "nbconvert_exporter": "python",
   "pygments_lexer": "ipython3",
   "version": "3.8.10"
  }
 },
 "nbformat": 4,
 "nbformat_minor": 5
}
